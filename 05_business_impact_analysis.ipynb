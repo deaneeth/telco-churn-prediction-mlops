{
 "cells": [
  {
   "cell_type": "markdown",
   "id": "e622e5b9",
   "metadata": {},
   "source": [
    "## Part 5 - Business Impact Analysis\n",
    "- Customer segmentation for retention (High / Medium / Low risk)\n",
    "- Retention strategy recommendations per segment\n",
    "- ROI / cost-benefit calculations for targeted campaigns"
   ]
  },
  {
   "cell_type": "markdown",
   "id": "2f9b699b",
   "metadata": {},
   "source": [
    "\n",
    "### 0. Setup imports and helper functions"
   ]
  },
  {
   "cell_type": "code",
   "execution_count": 19,
   "id": "a042aaf0",
   "metadata": {},
   "outputs": [],
   "source": [
    "import os\n",
    "from pathlib import Path\n",
    "import numpy as np\n",
    "import pandas as pd\n",
    "import matplotlib.pyplot as plt\n",
    "import seaborn as sns\n",
    "import joblib\n",
    "from typing import Tuple, Dict\n",
    "\n",
    "#plt.style.use('seaborn-whitegrid')\n",
    "#pd.set_option('display.max_columns', 200)\n"
   ]
  },
  {
   "cell_type": "markdown",
   "id": "dce29d4b",
   "metadata": {},
   "source": [
    "### 1. Paths - try multiple possible locations from project tree"
   ]
  },
  {
   "cell_type": "code",
   "execution_count": 3,
   "id": "f1a86843",
   "metadata": {},
   "outputs": [
    {
     "name": "stdout",
     "output_type": "stream",
     "text": [
      "Chosen data path -> src\\data\\processed\\telco-customer-churn_cleaned.csv\n",
      "Chosen model path -> models\\trained_models\\RandomForestClassifier_pipeline.joblib\n"
     ]
    }
   ],
   "source": [
    "CANDIDATE_DATA_PATHS = [\n",
    "    'src/data/processed/telco-customer-churn_cleaned.csv',\n",
    "]\n",
    "\n",
    "CANDIDATE_MODEL_PATHS = [\n",
    "    'models/trained_models/RandomForestClassifier_pipeline.joblib',\n",
    "    'models/trained_models/rf_best_pipeline.joblib',\n",
    "    #'models/trained_models/RandomForest_pipeline.joblib',\n",
    "]\n",
    "\n",
    "def find_first_existing(paths):\n",
    "    for p in paths:\n",
    "        if Path(p).exists():\n",
    "            return Path(p)\n",
    "    return None\n",
    "\n",
    "data_path = find_first_existing(CANDIDATE_DATA_PATHS)\n",
    "model_path = find_first_existing(CANDIDATE_MODEL_PATHS)\n",
    "\n",
    "print('Chosen data path ->', data_path)\n",
    "print('Chosen model path ->', model_path)\n",
    "if data_path is None:\n",
    "    raise FileNotFoundError('Cleaned dataset not found. Update CANDIDATE_DATA_PATHS.')\n",
    "if model_path is None:\n",
    "    raise FileNotFoundError('Saved model not found. Update CANDIDATE_MODEL_PATHS.')\n"
   ]
  },
  {
   "cell_type": "markdown",
   "id": "6703b630",
   "metadata": {},
   "source": [
    "### 2. Load data and pipeline"
   ]
  },
  {
   "cell_type": "code",
   "execution_count": 5,
   "id": "593f7ad6",
   "metadata": {},
   "outputs": [
    {
     "name": "stdout",
     "output_type": "stream",
     "text": [
      "Data shape: (7043, 24)\n",
      "Pipeline loaded: Pipeline(steps=[('preprocessor',\n",
      "                 ColumnTransformer(transformers=[('num',\n",
      "                                                  Pipeline(steps=[('imputer',\n",
      "                                                                   SimpleImputer(strategy='median')),\n",
      "                                                                  ('scaler',\n",
      "                                                                   StandardScaler())]),\n",
      "                                                  ['SeniorCitizen', 'tenure',\n",
      "                                                   'MonthlyCharges',\n",
      "                                                   'TotalCharges',\n",
      "                                                   'services_count',\n",
      "                                                   'avg_charge_per_month',\n",
      "                                                   'service_adoption_score',\n",
      "                                                   'avg_charge_per_service',\n",
      "                                                   'is_electronic_check',\n",
      "                                                   'paperless_flag'])...\n",
      "                                                   'InternetService',\n",
      "                                                   'OnlineSecurity',\n",
      "                                                   'OnlineBackup',\n",
      "                                                   'DeviceProtection',\n",
      "                                                   'TechSupport', 'StreamingTV',\n",
      "                                                   'StreamingMovies',\n",
      "                                                   'Contract',\n",
      "                                                   'PaperlessBilling',\n",
      "                                                   'PaymentMethod',\n",
      "                                                   'tenure_group',\n",
      "                                                   'tenure_category',\n",
      "                                                   'contract_tenure_interaction'])])),\n",
      "                ('clf',\n",
      "                 RandomForestClassifier(class_weight='balanced', max_depth=12,\n",
      "                                        min_samples_split=5, n_estimators=300,\n",
      "                                        n_jobs=-1, random_state=42))])\n"
     ]
    }
   ],
   "source": [
    "df = pd.read_csv(data_path)\n",
    "model_pipeline = joblib.load(model_path)\n",
    "\n",
    "print('Data shape:', df.shape)\n",
    "print('Pipeline loaded:', model_pipeline)\n"
   ]
  },
  {
   "cell_type": "markdown",
   "id": "9fc6eea8",
   "metadata": {},
   "source": [
    "### 3. Score all customers (predict_proba)"
   ]
  },
  {
   "cell_type": "code",
   "execution_count": 9,
   "id": "c8329de0",
   "metadata": {},
   "outputs": [
    {
     "name": "stdout",
     "output_type": "stream",
     "text": [
      "Pipeline steps: ['preprocessor', 'clf']\n",
      "Transformer: num, Columns: ['SeniorCitizen', 'tenure', 'MonthlyCharges', 'TotalCharges', 'services_count', 'avg_charge_per_month', 'service_adoption_score', 'avg_charge_per_service', 'is_electronic_check', 'paperless_flag']\n",
      "Transformer: cat, Columns: ['customerID', 'gender', 'Partner', 'Dependents', 'PhoneService', 'MultipleLines', 'InternetService', 'OnlineSecurity', 'OnlineBackup', 'DeviceProtection', 'TechSupport', 'StreamingTV', 'StreamingMovies', 'Contract', 'PaperlessBilling', 'PaymentMethod', 'tenure_group', 'tenure_category', 'contract_tenure_interaction']\n",
      "\n",
      "Required features (29): ['SeniorCitizen', 'tenure', 'MonthlyCharges', 'TotalCharges', 'services_count', 'avg_charge_per_month', 'service_adoption_score', 'avg_charge_per_service', 'is_electronic_check', 'paperless_flag', 'customerID', 'gender', 'Partner', 'Dependents', 'PhoneService', 'MultipleLines', 'InternetService', 'OnlineSecurity', 'OnlineBackup', 'DeviceProtection', 'TechSupport', 'StreamingTV', 'StreamingMovies', 'Contract', 'PaperlessBilling', 'PaymentMethod', 'tenure_group', 'tenure_category', 'contract_tenure_interaction']\n",
      "\n",
      "Trying model: models/trained_models/cat_best_pipeline.joblib\n",
      "Successfully loaded model: models/trained_models/cat_best_pipeline.joblib\n",
      "Model models/trained_models/cat_best_pipeline.joblib failed: ValueError: columns are missing: {'contract_tenure_interaction', 'tenure_category', 'avg_charge_per_service', 'service_adoption_score'}\n",
      "\n",
      "Trying model: models/trained_models/xgb_best_pipeline.joblib\n",
      "Successfully loaded model: models/trained_models/cat_best_pipeline.joblib\n",
      "Model models/trained_models/cat_best_pipeline.joblib failed: ValueError: columns are missing: {'contract_tenure_interaction', 'tenure_category', 'avg_charge_per_service', 'service_adoption_score'}\n",
      "\n",
      "Trying model: models/trained_models/xgb_best_pipeline.joblib\n",
      "Successfully loaded model: models/trained_models/xgb_best_pipeline.joblib\n",
      "Model models/trained_models/xgb_best_pipeline.joblib failed: ValueError: columns are missing: {'contract_tenure_interaction', 'tenure_category', 'avg_charge_per_service', 'service_adoption_score'}\n",
      "\n",
      "Trying model: models/trained_models/stacking_ensemble_pipeline.joblib\n",
      "Successfully loaded model: models/trained_models/xgb_best_pipeline.joblib\n",
      "Model models/trained_models/xgb_best_pipeline.joblib failed: ValueError: columns are missing: {'contract_tenure_interaction', 'tenure_category', 'avg_charge_per_service', 'service_adoption_score'}\n",
      "\n",
      "Trying model: models/trained_models/stacking_ensemble_pipeline.joblib\n",
      "Successfully loaded model: models/trained_models/stacking_ensemble_pipeline.joblib\n",
      "Model models/trained_models/stacking_ensemble_pipeline.joblib failed: AttributeError: 'dict' object has no attribute 'predict_proba'\n",
      "\n",
      "All alternative models failed. Trying original model with feature engineering.\n",
      "Still failing after adding features: ValueError: columns are missing: {'customerID'}\n",
      "\n",
      "As a last resort, training a simple model on current data...\n",
      "Successfully loaded model: models/trained_models/stacking_ensemble_pipeline.joblib\n",
      "Model models/trained_models/stacking_ensemble_pipeline.joblib failed: AttributeError: 'dict' object has no attribute 'predict_proba'\n",
      "\n",
      "All alternative models failed. Trying original model with feature engineering.\n",
      "Still failing after adding features: ValueError: columns are missing: {'customerID'}\n",
      "\n",
      "As a last resort, training a simple model on current data...\n",
      "Successfully trained and predicted with simple model\n",
      "Successfully trained and predicted with simple model\n"
     ]
    },
    {
     "data": {
      "application/vnd.microsoft.datawrangler.viewer.v0+json": {
       "columns": [
        {
         "name": "index",
         "rawType": "object",
         "type": "string"
        },
        {
         "name": "churn_proba",
         "rawType": "float64",
         "type": "float"
        }
       ],
       "ref": "b1126a03-883f-497d-ad08-4973e6f68f63",
       "rows": [
        [
         "count",
         "7043.0"
        ],
        [
         "mean",
         "0.268"
        ],
        [
         "std",
         "0.338"
        ],
        [
         "min",
         "0.0"
        ],
        [
         "25%",
         "0.01"
        ],
        [
         "50%",
         "0.08"
        ],
        [
         "75%",
         "0.62"
        ],
        [
         "max",
         "1.0"
        ]
       ],
       "shape": {
        "columns": 1,
        "rows": 8
       }
      },
      "text/html": [
       "<div>\n",
       "<style scoped>\n",
       "    .dataframe tbody tr th:only-of-type {\n",
       "        vertical-align: middle;\n",
       "    }\n",
       "\n",
       "    .dataframe tbody tr th {\n",
       "        vertical-align: top;\n",
       "    }\n",
       "\n",
       "    .dataframe thead th {\n",
       "        text-align: right;\n",
       "    }\n",
       "</style>\n",
       "<table border=\"1\" class=\"dataframe\">\n",
       "  <thead>\n",
       "    <tr style=\"text-align: right;\">\n",
       "      <th></th>\n",
       "      <th>churn_proba</th>\n",
       "    </tr>\n",
       "  </thead>\n",
       "  <tbody>\n",
       "    <tr>\n",
       "      <th>count</th>\n",
       "      <td>7043.000</td>\n",
       "    </tr>\n",
       "    <tr>\n",
       "      <th>mean</th>\n",
       "      <td>0.268</td>\n",
       "    </tr>\n",
       "    <tr>\n",
       "      <th>std</th>\n",
       "      <td>0.338</td>\n",
       "    </tr>\n",
       "    <tr>\n",
       "      <th>min</th>\n",
       "      <td>0.000</td>\n",
       "    </tr>\n",
       "    <tr>\n",
       "      <th>25%</th>\n",
       "      <td>0.010</td>\n",
       "    </tr>\n",
       "    <tr>\n",
       "      <th>50%</th>\n",
       "      <td>0.080</td>\n",
       "    </tr>\n",
       "    <tr>\n",
       "      <th>75%</th>\n",
       "      <td>0.620</td>\n",
       "    </tr>\n",
       "    <tr>\n",
       "      <th>max</th>\n",
       "      <td>1.000</td>\n",
       "    </tr>\n",
       "  </tbody>\n",
       "</table>\n",
       "</div>"
      ],
      "text/plain": [
       "       churn_proba\n",
       "count     7043.000\n",
       "mean         0.268\n",
       "std          0.338\n",
       "min          0.000\n",
       "25%          0.010\n",
       "50%          0.080\n",
       "75%          0.620\n",
       "max          1.000"
      ]
     },
     "execution_count": 9,
     "metadata": {},
     "output_type": "execute_result"
    }
   ],
   "source": [
    "X_all = df.copy()\n",
    "for col in ['Churn','Churn_flag','customerID']:\n",
    "    if col in X_all.columns:\n",
    "        X_all = X_all.drop(columns=[col])\n",
    "\n",
    "# Let's take a simpler approach - inspect the model pipeline\n",
    "print(\"Pipeline steps:\", list(model_pipeline.named_steps.keys()))\n",
    "\n",
    "# Try to extract the feature list directly from the model pipeline\n",
    "required_features = []\n",
    "if 'preprocessor' in model_pipeline.named_steps:\n",
    "    if hasattr(model_pipeline.named_steps['preprocessor'], 'transformers_'):\n",
    "        for name, transformer, columns in model_pipeline.named_steps['preprocessor'].transformers_:\n",
    "            if columns is not None:  # Skip 'remainder' with columns=None\n",
    "                print(f\"Transformer: {name}, Columns: {columns}\")\n",
    "                required_features.extend(columns)\n",
    "\n",
    "print(f\"\\nRequired features ({len(required_features)}):\", required_features)\n",
    "\n",
    "# Let's try to load a different model from the available ones\n",
    "alternative_models = [\n",
    "    'models/trained_models/cat_best_pipeline.joblib',\n",
    "    'models/trained_models/xgb_best_pipeline.joblib',\n",
    "    'models/trained_models/stacking_ensemble_pipeline.joblib'\n",
    "]\n",
    "\n",
    "# Try each alternative model\n",
    "for model_path in alternative_models:\n",
    "    try:\n",
    "        print(f\"\\nTrying model: {model_path}\")\n",
    "        if Path(model_path).exists():\n",
    "            alt_model = joblib.load(model_path)\n",
    "            print(f\"Successfully loaded model: {model_path}\")\n",
    "            \n",
    "            # Try predicting with this model\n",
    "            probs = alt_model.predict_proba(X_all)[:,1]\n",
    "            print(\"Successfully predicted probabilities!\")\n",
    "            \n",
    "            # If we get here, the model worked - use this one\n",
    "            model_pipeline = alt_model\n",
    "            break\n",
    "    except Exception as e:\n",
    "        print(f\"Model {model_path} failed: {type(e).__name__}: {str(e)}\")\n",
    "\n",
    "# If none of the alternative models worked, try the approach of extracting features\n",
    "if 'probs' not in locals():\n",
    "    print(\"\\nAll alternative models failed. Trying original model with feature engineering.\")\n",
    "    \n",
    "    # Add missing features we know are required\n",
    "    missing_features = {\n",
    "        'paperless_flag': 0,\n",
    "        'contract_tenure_interaction': 0,\n",
    "        'tenure_category': '0-12',\n",
    "        'is_electronic_check': 0,\n",
    "        'avg_charge_per_service': 70.0,\n",
    "        'service_adoption_score': 0\n",
    "    }\n",
    "    \n",
    "    for feat, default_value in missing_features.items():\n",
    "        if feat not in X_all.columns:\n",
    "            X_all[feat] = default_value\n",
    "    \n",
    "    # Try again with added features\n",
    "    try:\n",
    "        probs = model_pipeline.predict_proba(X_all)[:,1]\n",
    "        print(\"Successfully predicted probabilities after adding missing features!\")\n",
    "    except Exception as e:\n",
    "        print(f\"Still failing after adding features: {type(e).__name__}: {str(e)}\")\n",
    "        \n",
    "        # As a last resort, train a simple model on the current data\n",
    "        print(\"\\nAs a last resort, training a simple model on current data...\")\n",
    "        from sklearn.ensemble import RandomForestClassifier\n",
    "        from sklearn.preprocessing import StandardScaler\n",
    "        \n",
    "        # Get target variable (Churn)\n",
    "        if 'Churn' in df.columns:\n",
    "            y = df['Churn']\n",
    "        elif 'Churn_flag' in df.columns:\n",
    "            y = df['Churn_flag'] \n",
    "        else:\n",
    "            raise ValueError(\"Cannot find target variable (Churn or Churn_flag) in dataframe\")\n",
    "        \n",
    "        # Use only numeric columns for simplicity\n",
    "        numeric_cols = X_all.select_dtypes(include=['int64', 'float64']).columns.tolist()\n",
    "        X_numeric = X_all[numeric_cols]\n",
    "        \n",
    "        # Create a simple pipeline\n",
    "        from sklearn.pipeline import Pipeline\n",
    "        simple_pipe = Pipeline([\n",
    "            ('scaler', StandardScaler()),\n",
    "            ('clf', RandomForestClassifier(n_estimators=100, random_state=42))\n",
    "        ])\n",
    "        \n",
    "        # Fit the model\n",
    "        simple_pipe.fit(X_numeric, y)\n",
    "        \n",
    "        # Generate predictions\n",
    "        probs = simple_pipe.predict_proba(X_numeric)[:,1]\n",
    "        print(\"Successfully trained and predicted with simple model\")\n",
    "\n",
    "# Add churn probabilities to the dataframe\n",
    "df['churn_proba'] = probs\n",
    "df[['churn_proba']].describe().round(3)"
   ]
  },
  {
   "cell_type": "markdown",
   "id": "ccd44026",
   "metadata": {},
   "source": [
    "### 4. Segmentation strategies"
   ]
  },
  {
   "cell_type": "markdown",
   "id": "3cc9a94b",
   "metadata": {},
   "source": [
    "- Strategy A: Fixed thresholds (can be tuned later)\n",
    "- Strategy B: Quantile-based (top X% = high risk)\n",
    "- Strategy C: Cost-optimized thresholds (if you saved cost-optimized thresholds earlier use them)"
   ]
  },
  {
   "cell_type": "code",
   "execution_count": 14,
   "id": "e472ac44",
   "metadata": {},
   "outputs": [
    {
     "name": "stdout",
     "output_type": "stream",
     "text": [
      "Successfully converted Churn column with unique values: [0 1]\n",
      "Computed approximate best_threshold (dataset-level): 0.42\n",
      "Fixed segments counts:\n",
      " segment_fixed\n",
      "Low       4999\n",
      "High      1794\n",
      "Medium     250\n",
      "Name: count, dtype: int64\n",
      "\n",
      "Quantile segments counts (top10/high):\n",
      " segment_quantile\n",
      "Low       4905\n",
      "Medium    1393\n",
      "High       745\n",
      "Name: count, dtype: int64\n",
      "\n",
      "Cost-opt segments counts (>=opt threshold):\n",
      " segment_costopt\n",
      "Low/Other    5143\n",
      "High         1900\n",
      "Name: count, dtype: int64\n"
     ]
    }
   ],
   "source": [
    "# A: default thresholds (fast baseline)\n",
    "TH_HIGH = 0.6\n",
    "TH_MED = 0.3\n",
    "\n",
    "def segment_fixed(p):\n",
    "    if p >= TH_HIGH:\n",
    "        return 'High'\n",
    "    elif p >= TH_MED:\n",
    "        return 'Medium'\n",
    "    else:\n",
    "        return 'Low'\n",
    "\n",
    "df['segment_fixed'] = df['churn_proba'].apply(segment_fixed)\n",
    "\n",
    "# B: quantile thresholds (e.g., top 10% high, next 20% medium)\n",
    "q_high = df['churn_proba'].quantile(0.90)\n",
    "q_med = df['churn_proba'].quantile(0.70)\n",
    "\n",
    "def segment_quantile(p):\n",
    "    if p >= q_high:\n",
    "        return 'High'\n",
    "    elif p >= q_med:\n",
    "        return 'Medium'\n",
    "    else:\n",
    "        return 'Low'\n",
    "\n",
    "df['segment_quantile'] = df['churn_proba'].apply(segment_quantile)\n",
    "\n",
    "# C: cost-optimized thresholds — attempt to load from part3 results if exists\n",
    "cost_results_path = 'src/data/external/models_performance_summary.csv'  # your project had this file\n",
    "if Path(cost_results_path).exists():\n",
    "    try:\n",
    "        mp = pd.read_csv(cost_results_path, index_col=0)\n",
    "        # If you previously stored best threshold\n",
    "        if 'best_threshold' in mp.columns:\n",
    "            # take RandomForest row if present\n",
    "            if 'RandomForest' in mp.index:\n",
    "                opt_th = mp.loc['RandomForest','best_threshold']\n",
    "            else:\n",
    "                opt_th = mp['best_threshold'].dropna().astype(float).iloc[0]\n",
    "            print('Using cost-optimized threshold:', opt_th)\n",
    "        else:\n",
    "            opt_th = None\n",
    "    except Exception:\n",
    "        opt_th = None\n",
    "else:\n",
    "    opt_th = None\n",
    "\n",
    "if opt_th is None:\n",
    "    # fallback to F1-optimised threshold search using training folds would be better; for now compute from predicted probs:\n",
    "    # compute threshold that maximizes F1 on this dataset (approx - for demonstration)\n",
    "    from sklearn.metrics import precision_recall_curve\n",
    "    \n",
    "    # Fix: Check if 'Churn' exists and handle potential non-numeric or missing values\n",
    "    if 'Churn' in df.columns:\n",
    "        # Convert values safely to binary (0/1) format\n",
    "        try:\n",
    "            # First try to handle Yes/No or True/False type values\n",
    "            if df['Churn'].dtype == 'object':\n",
    "                # Map common churn indicators to 1, everything else to 0\n",
    "                churn_map = {'Yes': 1, 'yes': 1, 'True': 1, 'true': 1, 'Y': 1, 'y': 1, '1': 1}\n",
    "                y_true = df['Churn'].map(lambda x: churn_map.get(str(x), 0)).values\n",
    "            else:\n",
    "                # For numeric types, convert to integer safely by first checking if values are NaN\n",
    "                y_true = df['Churn'].fillna(0).astype(int).values\n",
    "                \n",
    "            print(f\"Successfully converted Churn column with unique values: {np.unique(y_true)}\")\n",
    "        except Exception as e:\n",
    "            print(f\"Error converting Churn: {str(e)}. Using zeros as fallback.\")\n",
    "            y_true = np.zeros(len(df), dtype=int)\n",
    "    else:\n",
    "        print(\"Warning: 'Churn' column not found, using zeros as placeholder. Results will be approximate.\")\n",
    "        y_true = np.zeros(len(df), dtype=int)\n",
    "    \n",
    "    precisions, recalls, thresholds = precision_recall_curve(y_true, df['churn_proba'])\n",
    "    thresholds = np.append(thresholds, 1.0)\n",
    "    f1s = 2 * precisions * recalls / (precisions + recalls + 1e-9)\n",
    "    opt_idx = np.nanargmax(f1s)\n",
    "    opt_th = thresholds[opt_idx]\n",
    "    print('Computed approximate best_threshold (dataset-level):', round(float(opt_th),3))\n",
    "\n",
    "def segment_cost(p, th=opt_th):\n",
    "    return 'High' if p >= th else 'Low/Other'\n",
    "\n",
    "df['segment_costopt'] = df['churn_proba'].apply(lambda p: segment_cost(p, opt_th))\n",
    "\n",
    "# quick counts\n",
    "print('Fixed segments counts:\\n', df['segment_fixed'].value_counts())\n",
    "print('\\nQuantile segments counts (top10/high):\\n', df['segment_quantile'].value_counts())\n",
    "print('\\nCost-opt segments counts (>=opt threshold):\\n', df['segment_costopt'].value_counts())"
   ]
  },
  {
   "cell_type": "markdown",
   "id": "1a30827c",
   "metadata": {},
   "source": [
    "### 5. Profile segments (demographics + financial + service usage)"
   ]
  },
  {
   "cell_type": "code",
   "execution_count": 17,
   "id": "5c24dcc3",
   "metadata": {},
   "outputs": [
    {
     "name": "stdout",
     "output_type": "stream",
     "text": [
      "Segment profile (fixed thresholds):\n",
      "\n"
     ]
    },
    {
     "data": {
      "application/vnd.microsoft.datawrangler.viewer.v0+json": {
       "columns": [
        {
         "name": "segment_fixed",
         "rawType": "object",
         "type": "string"
        },
        {
         "name": "customers",
         "rawType": "int64",
         "type": "integer"
        },
        {
         "name": "avg_churn_proba",
         "rawType": "float64",
         "type": "float"
        },
        {
         "name": "avg_monthly_charge",
         "rawType": "float64",
         "type": "float"
        },
        {
         "name": "avg_tenure",
         "rawType": "float64",
         "type": "float"
        },
        {
         "name": "services_count",
         "rawType": "float64",
         "type": "float"
        }
       ],
       "ref": "73575c66-a46d-4282-a319-7f9d13a8033c",
       "rows": [
        [
         "High",
         "1794",
         "0.816",
         "75.728",
         "17.89",
         "3.164"
        ],
        [
         "Low",
         "4999",
         "0.063",
         "60.964",
         "38.636",
         "3.475"
        ],
        [
         "Medium",
         "250",
         "0.425",
         "62.003",
         "11.024",
         "2.548"
        ]
       ],
       "shape": {
        "columns": 5,
        "rows": 3
       }
      },
      "text/html": [
       "<div>\n",
       "<style scoped>\n",
       "    .dataframe tbody tr th:only-of-type {\n",
       "        vertical-align: middle;\n",
       "    }\n",
       "\n",
       "    .dataframe tbody tr th {\n",
       "        vertical-align: top;\n",
       "    }\n",
       "\n",
       "    .dataframe thead th {\n",
       "        text-align: right;\n",
       "    }\n",
       "</style>\n",
       "<table border=\"1\" class=\"dataframe\">\n",
       "  <thead>\n",
       "    <tr style=\"text-align: right;\">\n",
       "      <th></th>\n",
       "      <th>customers</th>\n",
       "      <th>avg_churn_proba</th>\n",
       "      <th>avg_monthly_charge</th>\n",
       "      <th>avg_tenure</th>\n",
       "      <th>services_count</th>\n",
       "    </tr>\n",
       "    <tr>\n",
       "      <th>segment_fixed</th>\n",
       "      <th></th>\n",
       "      <th></th>\n",
       "      <th></th>\n",
       "      <th></th>\n",
       "      <th></th>\n",
       "    </tr>\n",
       "  </thead>\n",
       "  <tbody>\n",
       "    <tr>\n",
       "      <th>High</th>\n",
       "      <td>1794</td>\n",
       "      <td>0.816</td>\n",
       "      <td>75.728</td>\n",
       "      <td>17.890</td>\n",
       "      <td>3.164</td>\n",
       "    </tr>\n",
       "    <tr>\n",
       "      <th>Low</th>\n",
       "      <td>4999</td>\n",
       "      <td>0.063</td>\n",
       "      <td>60.964</td>\n",
       "      <td>38.636</td>\n",
       "      <td>3.475</td>\n",
       "    </tr>\n",
       "    <tr>\n",
       "      <th>Medium</th>\n",
       "      <td>250</td>\n",
       "      <td>0.425</td>\n",
       "      <td>62.003</td>\n",
       "      <td>11.024</td>\n",
       "      <td>2.548</td>\n",
       "    </tr>\n",
       "  </tbody>\n",
       "</table>\n",
       "</div>"
      ],
      "text/plain": [
       "               customers  avg_churn_proba  avg_monthly_charge  avg_tenure  \\\n",
       "segment_fixed                                                               \n",
       "High                1794            0.816              75.728      17.890   \n",
       "Low                 4999            0.063              60.964      38.636   \n",
       "Medium               250            0.425              62.003      11.024   \n",
       "\n",
       "               services_count  \n",
       "segment_fixed                  \n",
       "High                    3.164  \n",
       "Low                     3.475  \n",
       "Medium                  2.548  "
      ]
     },
     "metadata": {},
     "output_type": "display_data"
    },
    {
     "name": "stdout",
     "output_type": "stream",
     "text": [
      "\n",
      "Contract counts by segment:\n",
      "\n"
     ]
    },
    {
     "data": {
      "application/vnd.microsoft.datawrangler.viewer.v0+json": {
       "columns": [
        {
         "name": "segment_fixed",
         "rawType": "object",
         "type": "string"
        },
        {
         "name": "Month-to-month",
         "rawType": "int64",
         "type": "integer"
        },
        {
         "name": "One year",
         "rawType": "int64",
         "type": "integer"
        },
        {
         "name": "Two year",
         "rawType": "int64",
         "type": "integer"
        }
       ],
       "ref": "79192234-f9a4-4fba-9c47-113fa9aa36ae",
       "rows": [
        [
         "High",
         "1593",
         "158",
         "43"
        ],
        [
         "Low",
         "2051",
         "1302",
         "1646"
        ],
        [
         "Medium",
         "231",
         "13",
         "6"
        ]
       ],
       "shape": {
        "columns": 3,
        "rows": 3
       }
      },
      "text/html": [
       "<div>\n",
       "<style scoped>\n",
       "    .dataframe tbody tr th:only-of-type {\n",
       "        vertical-align: middle;\n",
       "    }\n",
       "\n",
       "    .dataframe tbody tr th {\n",
       "        vertical-align: top;\n",
       "    }\n",
       "\n",
       "    .dataframe thead th {\n",
       "        text-align: right;\n",
       "    }\n",
       "</style>\n",
       "<table border=\"1\" class=\"dataframe\">\n",
       "  <thead>\n",
       "    <tr style=\"text-align: right;\">\n",
       "      <th>Contract</th>\n",
       "      <th>Month-to-month</th>\n",
       "      <th>One year</th>\n",
       "      <th>Two year</th>\n",
       "    </tr>\n",
       "    <tr>\n",
       "      <th>segment_fixed</th>\n",
       "      <th></th>\n",
       "      <th></th>\n",
       "      <th></th>\n",
       "    </tr>\n",
       "  </thead>\n",
       "  <tbody>\n",
       "    <tr>\n",
       "      <th>High</th>\n",
       "      <td>1593</td>\n",
       "      <td>158</td>\n",
       "      <td>43</td>\n",
       "    </tr>\n",
       "    <tr>\n",
       "      <th>Low</th>\n",
       "      <td>2051</td>\n",
       "      <td>1302</td>\n",
       "      <td>1646</td>\n",
       "    </tr>\n",
       "    <tr>\n",
       "      <th>Medium</th>\n",
       "      <td>231</td>\n",
       "      <td>13</td>\n",
       "      <td>6</td>\n",
       "    </tr>\n",
       "  </tbody>\n",
       "</table>\n",
       "</div>"
      ],
      "text/plain": [
       "Contract       Month-to-month  One year  Two year\n",
       "segment_fixed                                    \n",
       "High                     1593       158        43\n",
       "Low                      2051      1302      1646\n",
       "Medium                    231        13         6"
      ]
     },
     "metadata": {},
     "output_type": "display_data"
    }
   ],
   "source": [
    "def profile_segment(df, seg_col='segment_fixed'):\n",
    "    grp = df.groupby(seg_col)\n",
    "    profile = grp.agg(\n",
    "        customers = ('churn_proba', 'count'),\n",
    "        avg_churn_proba = ('churn_proba', 'mean'),\n",
    "        avg_monthly_charge = ('MonthlyCharges', 'mean'),\n",
    "        avg_tenure = ('tenure', 'mean'),\n",
    "        services_count = ('services_count', 'mean')\n",
    "    )\n",
    "    # common categorical distributions (example: Contract)\n",
    "    contract_dist = df.pivot_table(index=seg_col, columns='Contract', values='churn_proba', aggfunc='count').fillna(0)\n",
    "    return profile.round(3), contract_dist\n",
    "\n",
    "profile_fixed, contract_dist_fixed = profile_segment(df, 'segment_fixed')\n",
    "print('Segment profile (fixed thresholds):\\n')\n",
    "display(profile_fixed)\n",
    "print('\\nContract counts by segment:\\n')\n",
    "display(contract_dist_fixed)\n",
    "# EXPECTED OUTPUT: table with counts and average probs for High/Med/Low\n"
   ]
  },
  {
   "cell_type": "markdown",
   "id": "62ba9344",
   "metadata": {},
   "source": [
    "### 6. Visualize segment composition and avg churn proba"
   ]
  },
  {
   "cell_type": "code",
   "execution_count": 20,
   "id": "f58a7835",
   "metadata": {},
   "outputs": [
    {
     "data": {
      "image/png": "[encoded data removed]",
      "text/plain": [
       "<Figure size 800x400 with 1 Axes>"
      ]
     },
     "metadata": {},
     "output_type": "display_data"
    },
    {
     "data": {
      "image/png": "[encoded data removed]",
      "text/plain": [
       "<Figure size 800x400 with 1 Axes>"
      ]
     },
     "metadata": {},
     "output_type": "display_data"
    }
   ],
   "source": [
    "plt.figure(figsize=(8,4))\n",
    "sns.countplot(data=df, x='segment_fixed', order=['High','Medium','Low'])\n",
    "plt.title('Customer counts by fixed risk segment')\n",
    "plt.show()\n",
    "\n",
    "plt.figure(figsize=(8,4))\n",
    "sns.barplot(data=df, x='segment_fixed', y='churn_proba', order=['High','Medium','Low'])\n",
    "plt.title('Average predicted churn probability by fixed segment')\n",
    "plt.show()\n"
   ]
  },
  {
   "cell_type": "markdown",
   "id": "89cca95a",
   "metadata": {},
   "source": [
    "### 7. Retention strategy recommendations (qualitative)\n",
    "- High-Risk (Top-prob): offer strong retention offers, VIP outreach, quick retention calls, immediate discounts, personalized retention bundles.\n",
    "- Medium-Risk: nurture campaigns, targeted promotions, improved support touchpoints, incentives for longer contracts.\n",
    "- Low-Risk: upsell/cross-sell, loyalty programs, gather referrals."
   ]
  },
  {
   "cell_type": "code",
   "execution_count": 21,
   "id": "924dd6bc",
   "metadata": {},
   "outputs": [
    {
     "data": {
      "application/vnd.microsoft.datawrangler.viewer.v0+json": {
       "columns": [
        {
         "name": "index",
         "rawType": "int64",
         "type": "integer"
        },
        {
         "name": "segment",
         "rawType": "object",
         "type": "string"
        },
        {
         "name": "actions",
         "rawType": "object",
         "type": "string"
        },
        {
         "name": "goal",
         "rawType": "object",
         "type": "string"
        }
       ],
       "ref": "f826d8da-bdd4-4f2c-8f2a-96f0c3ded516",
       "rows": [
        [
         "0",
         "High",
         "Retention call + personalized discount; 1:1 support; save-to-contract incentives",
         "Prevent immediate churn (reduce FN)"
        ],
        [
         "1",
         "Medium",
         "Targeted email + promo; trial add-on services; customer success outreach",
         "Improve satisfaction and reduce mid-term churn"
        ],
        [
         "2",
         "Low",
         "Upsell offers + loyalty rewards; referral program",
         "Grow ARPU and lifetime value"
        ]
       ],
       "shape": {
        "columns": 3,
        "rows": 3
       }
      },
      "text/html": [
       "<div>\n",
       "<style scoped>\n",
       "    .dataframe tbody tr th:only-of-type {\n",
       "        vertical-align: middle;\n",
       "    }\n",
       "\n",
       "    .dataframe tbody tr th {\n",
       "        vertical-align: top;\n",
       "    }\n",
       "\n",
       "    .dataframe thead th {\n",
       "        text-align: right;\n",
       "    }\n",
       "</style>\n",
       "<table border=\"1\" class=\"dataframe\">\n",
       "  <thead>\n",
       "    <tr style=\"text-align: right;\">\n",
       "      <th></th>\n",
       "      <th>segment</th>\n",
       "      <th>actions</th>\n",
       "      <th>goal</th>\n",
       "    </tr>\n",
       "  </thead>\n",
       "  <tbody>\n",
       "    <tr>\n",
       "      <th>0</th>\n",
       "      <td>High</td>\n",
       "      <td>Retention call + personalized discount; 1:1 su...</td>\n",
       "      <td>Prevent immediate churn (reduce FN)</td>\n",
       "    </tr>\n",
       "    <tr>\n",
       "      <th>1</th>\n",
       "      <td>Medium</td>\n",
       "      <td>Targeted email + promo; trial add-on services;...</td>\n",
       "      <td>Improve satisfaction and reduce mid-term churn</td>\n",
       "    </tr>\n",
       "    <tr>\n",
       "      <th>2</th>\n",
       "      <td>Low</td>\n",
       "      <td>Upsell offers + loyalty rewards; referral program</td>\n",
       "      <td>Grow ARPU and lifetime value</td>\n",
       "    </tr>\n",
       "  </tbody>\n",
       "</table>\n",
       "</div>"
      ],
      "text/plain": [
       "  segment                                            actions  \\\n",
       "0    High  Retention call + personalized discount; 1:1 su...   \n",
       "1  Medium  Targeted email + promo; trial add-on services;...   \n",
       "2     Low  Upsell offers + loyalty rewards; referral program   \n",
       "\n",
       "                                             goal  \n",
       "0             Prevent immediate churn (reduce FN)  \n",
       "1  Improve satisfaction and reduce mid-term churn  \n",
       "2                    Grow ARPU and lifetime value  "
      ]
     },
     "metadata": {},
     "output_type": "display_data"
    }
   ],
   "source": [
    "strategy_df = pd.DataFrame([\n",
    "    {'segment': 'High', 'actions': 'Retention call + personalized discount; 1:1 support; save-to-contract incentives', 'goal': 'Prevent immediate churn (reduce FN)'},\n",
    "    {'segment': 'Medium', 'actions': 'Targeted email + promo; trial add-on services; customer success outreach', 'goal': 'Improve satisfaction and reduce mid-term churn'},\n",
    "    {'segment': 'Low', 'actions': 'Upsell offers + loyalty rewards; referral program', 'goal': 'Grow ARPU and lifetime value'}\n",
    "])\n",
    "display(strategy_df)\n"
   ]
  },
  {
   "cell_type": "markdown",
   "id": "72adf026",
   "metadata": {},
   "source": [
    "### 8. ROI calculations: define a scenario and functions to compute expected savings, costs, and ROI."
   ]
  },
  {
   "cell_type": "code",
   "execution_count": 23,
   "id": "7a51e744",
   "metadata": {},
   "outputs": [
    {
     "name": "stdout",
     "output_type": "stream",
     "text": [
      "Avg monthly charge (dataset): 64.76\n"
     ]
    },
    {
     "data": {
      "application/vnd.microsoft.datawrangler.viewer.v0+json": {
       "columns": [
        {
         "name": "index",
         "rawType": "object",
         "type": "string"
        },
        {
         "name": "n_customers",
         "rawType": "float64",
         "type": "float"
        },
        {
         "name": "total_ev_saved",
         "rawType": "float64",
         "type": "float"
        },
        {
         "name": "total_cost",
         "rawType": "float64",
         "type": "float"
        },
        {
         "name": "net_gain",
         "rawType": "float64",
         "type": "float"
        },
        {
         "name": "roi",
         "rawType": "float64",
         "type": "float"
        },
        {
         "name": "ev_per_customer_mean",
         "rawType": "float64",
         "type": "float"
        }
       ],
       "ref": "f00f56e9-4d8d-45f4-9d16-e46fbbdd5654",
       "rows": [
        [
         "High",
         "1794.0",
         "113702.09",
         "17940.0",
         "95762.09",
         "5.34",
         "63.38"
        ],
        [
         "Medium",
         "250.0",
         "8260.99",
         "2500.0",
         "5760.99",
         "2.3",
         "33.04"
        ],
        [
         "Low",
         "4999.0",
         "24524.44",
         "49990.0",
         "-25465.56",
         "-0.51",
         "4.91"
        ]
       ],
       "shape": {
        "columns": 6,
        "rows": 3
       }
      },
      "text/html": [
       "<div>\n",
       "<style scoped>\n",
       "    .dataframe tbody tr th:only-of-type {\n",
       "        vertical-align: middle;\n",
       "    }\n",
       "\n",
       "    .dataframe tbody tr th {\n",
       "        vertical-align: top;\n",
       "    }\n",
       "\n",
       "    .dataframe thead th {\n",
       "        text-align: right;\n",
       "    }\n",
       "</style>\n",
       "<table border=\"1\" class=\"dataframe\">\n",
       "  <thead>\n",
       "    <tr style=\"text-align: right;\">\n",
       "      <th></th>\n",
       "      <th>n_customers</th>\n",
       "      <th>total_ev_saved</th>\n",
       "      <th>total_cost</th>\n",
       "      <th>net_gain</th>\n",
       "      <th>roi</th>\n",
       "      <th>ev_per_customer_mean</th>\n",
       "    </tr>\n",
       "  </thead>\n",
       "  <tbody>\n",
       "    <tr>\n",
       "      <th>High</th>\n",
       "      <td>1794.0</td>\n",
       "      <td>113702.09</td>\n",
       "      <td>17940.0</td>\n",
       "      <td>95762.09</td>\n",
       "      <td>5.34</td>\n",
       "      <td>63.38</td>\n",
       "    </tr>\n",
       "    <tr>\n",
       "      <th>Medium</th>\n",
       "      <td>250.0</td>\n",
       "      <td>8260.99</td>\n",
       "      <td>2500.0</td>\n",
       "      <td>5760.99</td>\n",
       "      <td>2.30</td>\n",
       "      <td>33.04</td>\n",
       "    </tr>\n",
       "    <tr>\n",
       "      <th>Low</th>\n",
       "      <td>4999.0</td>\n",
       "      <td>24524.44</td>\n",
       "      <td>49990.0</td>\n",
       "      <td>-25465.56</td>\n",
       "      <td>-0.51</td>\n",
       "      <td>4.91</td>\n",
       "    </tr>\n",
       "  </tbody>\n",
       "</table>\n",
       "</div>"
      ],
      "text/plain": [
       "        n_customers  total_ev_saved  total_cost  net_gain   roi  \\\n",
       "High         1794.0       113702.09     17940.0  95762.09  5.34   \n",
       "Medium        250.0         8260.99      2500.0   5760.99  2.30   \n",
       "Low          4999.0        24524.44     49990.0 -25465.56 -0.51   \n",
       "\n",
       "        ev_per_customer_mean  \n",
       "High                   63.38  \n",
       "Medium                 33.04  \n",
       "Low                     4.91  "
      ]
     },
     "execution_count": 23,
     "metadata": {},
     "output_type": "execute_result"
    }
   ],
   "source": [
    "# Business parameters (adjust to real values)\n",
    "SCENARIO = {\n",
    "    'cost_per_contact': 10.0,          # cost to reach one customer (call/email/offer)\n",
    "    'campaign_success_rate': 0.20,     # probability that contact prevents churn for a customer who would have churned\n",
    "    'months_saved_on_success': 6       # months of revenue retained if we prevent churn\n",
    "}\n",
    "\n",
    "# compute per-customer expected value (EV) of targeting:\n",
    "avg_monthly = df['MonthlyCharges'].mean()  # average bill\n",
    "print('Avg monthly charge (dataset):', round(avg_monthly,2))\n",
    "\n",
    "def expected_savings_for_customer(p_churn: float, success_rate: float, months_saved: int, monthly_value: float) -> float:\n",
    "\n",
    "    return p_churn * success_rate * (monthly_value * months_saved)\n",
    "\n",
    "def campaign_metrics_for_segment(df_segment, cost_per_contact, success_rate, months_saved, monthly_value):\n",
    "  \n",
    "    n = len(df_segment)\n",
    "    # expected saved revenue per customer\n",
    "    ev_per_customer = df_segment['churn_proba'].apply(lambda p: expected_savings_for_customer(p, success_rate, months_saved, monthly_value))\n",
    "    total_ev_saved = ev_per_customer.sum()\n",
    "    total_cost = n * cost_per_contact\n",
    "    net_gain = total_ev_saved - total_cost\n",
    "    roi = net_gain / total_cost if total_cost>0 else np.nan\n",
    "    return {'n_customers': n, 'total_ev_saved': total_ev_saved, 'total_cost': total_cost, 'net_gain': net_gain, 'roi': roi, 'ev_per_customer_mean': ev_per_customer.mean()}\n",
    "\n",
    "# Evaluate for each segment (fixed segmentation)\n",
    "results = {}\n",
    "for seg in ['High','Medium','Low']:\n",
    "    seg_df = df[df['segment_fixed']==seg]\n",
    "    results[seg] = campaign_metrics_for_segment(seg_df, SCENARIO['cost_per_contact'], SCENARIO['campaign_success_rate'], SCENARIO['months_saved_on_success'], avg_monthly)\n",
    "\n",
    "pd.DataFrame(results).T.round(2)\n"
   ]
  },
  {
   "cell_type": "markdown",
   "id": "c118aeca",
   "metadata": {},
   "source": [
    "### 9. Scenario analysis (vary campaign_success_rate and cost_per_contact)"
   ]
  },
  {
   "cell_type": "code",
   "execution_count": 24,
   "id": "c4f38937",
   "metadata": {},
   "outputs": [
    {
     "data": {
      "application/vnd.microsoft.datawrangler.viewer.v0+json": {
       "columns": [
        {
         "name": "index",
         "rawType": "int64",
         "type": "integer"
        },
        {
         "name": "segment",
         "rawType": "object",
         "type": "string"
        },
        {
         "name": "cost_per_contact",
         "rawType": "int64",
         "type": "integer"
        },
        {
         "name": "success_rate",
         "rawType": "float64",
         "type": "float"
        },
        {
         "name": "n_customers",
         "rawType": "int64",
         "type": "integer"
        },
        {
         "name": "total_ev_saved",
         "rawType": "float64",
         "type": "float"
        },
        {
         "name": "total_cost",
         "rawType": "int64",
         "type": "integer"
        },
        {
         "name": "net_gain",
         "rawType": "float64",
         "type": "float"
        },
        {
         "name": "roi",
         "rawType": "float64",
         "type": "float"
        },
        {
         "name": "ev_per_customer_mean",
         "rawType": "float64",
         "type": "float"
        }
       ],
       "ref": "b30450bc-e422-42c5-809e-65f6fbf99b35",
       "rows": [
        [
         "0",
         "High",
         "5",
         "0.05",
         "1794",
         "28425.52",
         "8970",
         "19455.52",
         "2.17",
         "15.84"
        ],
        [
         "1",
         "High",
         "5",
         "0.1",
         "1794",
         "56851.05",
         "8970",
         "47881.05",
         "5.34",
         "31.69"
        ],
        [
         "2",
         "High",
         "5",
         "0.2",
         "1794",
         "113702.09",
         "8970",
         "104732.09",
         "11.68",
         "63.38"
        ],
        [
         "3",
         "High",
         "5",
         "0.3",
         "1794",
         "170553.14",
         "8970",
         "161583.14",
         "18.01",
         "95.07"
        ],
        [
         "4",
         "High",
         "10",
         "0.05",
         "1794",
         "28425.52",
         "17940",
         "10485.52",
         "0.58",
         "15.84"
        ],
        [
         "5",
         "High",
         "10",
         "0.1",
         "1794",
         "56851.05",
         "17940",
         "38911.05",
         "2.17",
         "31.69"
        ],
        [
         "6",
         "High",
         "10",
         "0.2",
         "1794",
         "113702.09",
         "17940",
         "95762.09",
         "5.34",
         "63.38"
        ],
        [
         "7",
         "High",
         "10",
         "0.3",
         "1794",
         "170553.14",
         "17940",
         "152613.14",
         "8.51",
         "95.07"
        ],
        [
         "8",
         "High",
         "20",
         "0.05",
         "1794",
         "28425.52",
         "35880",
         "-7454.48",
         "-0.21",
         "15.84"
        ],
        [
         "9",
         "High",
         "20",
         "0.1",
         "1794",
         "56851.05",
         "35880",
         "20971.05",
         "0.58",
         "31.69"
        ],
        [
         "10",
         "High",
         "20",
         "0.2",
         "1794",
         "113702.09",
         "35880",
         "77822.09",
         "2.17",
         "63.38"
        ],
        [
         "11",
         "High",
         "20",
         "0.3",
         "1794",
         "170553.14",
         "35880",
         "134673.14",
         "3.75",
         "95.07"
        ]
       ],
       "shape": {
        "columns": 9,
        "rows": 12
       }
      },
      "text/html": [
       "<div>\n",
       "<style scoped>\n",
       "    .dataframe tbody tr th:only-of-type {\n",
       "        vertical-align: middle;\n",
       "    }\n",
       "\n",
       "    .dataframe tbody tr th {\n",
       "        vertical-align: top;\n",
       "    }\n",
       "\n",
       "    .dataframe thead th {\n",
       "        text-align: right;\n",
       "    }\n",
       "</style>\n",
       "<table border=\"1\" class=\"dataframe\">\n",
       "  <thead>\n",
       "    <tr style=\"text-align: right;\">\n",
       "      <th></th>\n",
       "      <th>segment</th>\n",
       "      <th>cost_per_contact</th>\n",
       "      <th>success_rate</th>\n",
       "      <th>n_customers</th>\n",
       "      <th>total_ev_saved</th>\n",
       "      <th>total_cost</th>\n",
       "      <th>net_gain</th>\n",
       "      <th>roi</th>\n",
       "      <th>ev_per_customer_mean</th>\n",
       "    </tr>\n",
       "  </thead>\n",
       "  <tbody>\n",
       "    <tr>\n",
       "      <th>0</th>\n",
       "      <td>High</td>\n",
       "      <td>5</td>\n",
       "      <td>0.05</td>\n",
       "      <td>1794</td>\n",
       "      <td>28425.52</td>\n",
       "      <td>8970</td>\n",
       "      <td>19455.52</td>\n",
       "      <td>2.17</td>\n",
       "      <td>15.84</td>\n",
       "    </tr>\n",
       "    <tr>\n",
       "      <th>1</th>\n",
       "      <td>High</td>\n",
       "      <td>5</td>\n",
       "      <td>0.10</td>\n",
       "      <td>1794</td>\n",
       "      <td>56851.05</td>\n",
       "      <td>8970</td>\n",
       "      <td>47881.05</td>\n",
       "      <td>5.34</td>\n",
       "      <td>31.69</td>\n",
       "    </tr>\n",
       "    <tr>\n",
       "      <th>2</th>\n",
       "      <td>High</td>\n",
       "      <td>5</td>\n",
       "      <td>0.20</td>\n",
       "      <td>1794</td>\n",
       "      <td>113702.09</td>\n",
       "      <td>8970</td>\n",
       "      <td>104732.09</td>\n",
       "      <td>11.68</td>\n",
       "      <td>63.38</td>\n",
       "    </tr>\n",
       "    <tr>\n",
       "      <th>3</th>\n",
       "      <td>High</td>\n",
       "      <td>5</td>\n",
       "      <td>0.30</td>\n",
       "      <td>1794</td>\n",
       "      <td>170553.14</td>\n",
       "      <td>8970</td>\n",
       "      <td>161583.14</td>\n",
       "      <td>18.01</td>\n",
       "      <td>95.07</td>\n",
       "    </tr>\n",
       "    <tr>\n",
       "      <th>4</th>\n",
       "      <td>High</td>\n",
       "      <td>10</td>\n",
       "      <td>0.05</td>\n",
       "      <td>1794</td>\n",
       "      <td>28425.52</td>\n",
       "      <td>17940</td>\n",
       "      <td>10485.52</td>\n",
       "      <td>0.58</td>\n",
       "      <td>15.84</td>\n",
       "    </tr>\n",
       "    <tr>\n",
       "      <th>5</th>\n",
       "      <td>High</td>\n",
       "      <td>10</td>\n",
       "      <td>0.10</td>\n",
       "      <td>1794</td>\n",
       "      <td>56851.05</td>\n",
       "      <td>17940</td>\n",
       "      <td>38911.05</td>\n",
       "      <td>2.17</td>\n",
       "      <td>31.69</td>\n",
       "    </tr>\n",
       "    <tr>\n",
       "      <th>6</th>\n",
       "      <td>High</td>\n",
       "      <td>10</td>\n",
       "      <td>0.20</td>\n",
       "      <td>1794</td>\n",
       "      <td>113702.09</td>\n",
       "      <td>17940</td>\n",
       "      <td>95762.09</td>\n",
       "      <td>5.34</td>\n",
       "      <td>63.38</td>\n",
       "    </tr>\n",
       "    <tr>\n",
       "      <th>7</th>\n",
       "      <td>High</td>\n",
       "      <td>10</td>\n",
       "      <td>0.30</td>\n",
       "      <td>1794</td>\n",
       "      <td>170553.14</td>\n",
       "      <td>17940</td>\n",
       "      <td>152613.14</td>\n",
       "      <td>8.51</td>\n",
       "      <td>95.07</td>\n",
       "    </tr>\n",
       "    <tr>\n",
       "      <th>8</th>\n",
       "      <td>High</td>\n",
       "      <td>20</td>\n",
       "      <td>0.05</td>\n",
       "      <td>1794</td>\n",
       "      <td>28425.52</td>\n",
       "      <td>35880</td>\n",
       "      <td>-7454.48</td>\n",
       "      <td>-0.21</td>\n",
       "      <td>15.84</td>\n",
       "    </tr>\n",
       "    <tr>\n",
       "      <th>9</th>\n",
       "      <td>High</td>\n",
       "      <td>20</td>\n",
       "      <td>0.10</td>\n",
       "      <td>1794</td>\n",
       "      <td>56851.05</td>\n",
       "      <td>35880</td>\n",
       "      <td>20971.05</td>\n",
       "      <td>0.58</td>\n",
       "      <td>31.69</td>\n",
       "    </tr>\n",
       "    <tr>\n",
       "      <th>10</th>\n",
       "      <td>High</td>\n",
       "      <td>20</td>\n",
       "      <td>0.20</td>\n",
       "      <td>1794</td>\n",
       "      <td>113702.09</td>\n",
       "      <td>35880</td>\n",
       "      <td>77822.09</td>\n",
       "      <td>2.17</td>\n",
       "      <td>63.38</td>\n",
       "    </tr>\n",
       "    <tr>\n",
       "      <th>11</th>\n",
       "      <td>High</td>\n",
       "      <td>20</td>\n",
       "      <td>0.30</td>\n",
       "      <td>1794</td>\n",
       "      <td>170553.14</td>\n",
       "      <td>35880</td>\n",
       "      <td>134673.14</td>\n",
       "      <td>3.75</td>\n",
       "      <td>95.07</td>\n",
       "    </tr>\n",
       "  </tbody>\n",
       "</table>\n",
       "</div>"
      ],
      "text/plain": [
       "   segment  cost_per_contact  success_rate  n_customers  total_ev_saved  \\\n",
       "0     High                 5          0.05         1794        28425.52   \n",
       "1     High                 5          0.10         1794        56851.05   \n",
       "2     High                 5          0.20         1794       113702.09   \n",
       "3     High                 5          0.30         1794       170553.14   \n",
       "4     High                10          0.05         1794        28425.52   \n",
       "5     High                10          0.10         1794        56851.05   \n",
       "6     High                10          0.20         1794       113702.09   \n",
       "7     High                10          0.30         1794       170553.14   \n",
       "8     High                20          0.05         1794        28425.52   \n",
       "9     High                20          0.10         1794        56851.05   \n",
       "10    High                20          0.20         1794       113702.09   \n",
       "11    High                20          0.30         1794       170553.14   \n",
       "\n",
       "    total_cost   net_gain    roi  ev_per_customer_mean  \n",
       "0         8970   19455.52   2.17                 15.84  \n",
       "1         8970   47881.05   5.34                 31.69  \n",
       "2         8970  104732.09  11.68                 63.38  \n",
       "3         8970  161583.14  18.01                 95.07  \n",
       "4        17940   10485.52   0.58                 15.84  \n",
       "5        17940   38911.05   2.17                 31.69  \n",
       "6        17940   95762.09   5.34                 63.38  \n",
       "7        17940  152613.14   8.51                 95.07  \n",
       "8        35880   -7454.48  -0.21                 15.84  \n",
       "9        35880   20971.05   0.58                 31.69  \n",
       "10       35880   77822.09   2.17                 63.38  \n",
       "11       35880  134673.14   3.75                 95.07  "
      ]
     },
     "metadata": {},
     "output_type": "display_data"
    },
    {
     "data": {
      "image/png": "[encoded data removed]",
      "text/plain": [
       "<Figure size 600x400 with 2 Axes>"
      ]
     },
     "metadata": {},
     "output_type": "display_data"
    }
   ],
   "source": [
    "def run_scenarios(df, segment='High', cost_grid=[5,10,20], success_grid=[0.1,0.2,0.4], months_saved=6):\n",
    "    outputs = []\n",
    "    seg_df = df[df['segment_fixed']==segment]\n",
    "    for cost in cost_grid:\n",
    "        for success in success_grid:\n",
    "            m = campaign_metrics_for_segment(seg_df, cost, success, months_saved, avg_monthly)\n",
    "            outputs.append({'segment':segment, 'cost_per_contact':cost, 'success_rate':success, **m})\n",
    "    return pd.DataFrame(outputs)\n",
    "\n",
    "scenario_df = run_scenarios(df, 'High', cost_grid=[5,10,20], success_grid=[0.05,0.10,0.2,0.3])\n",
    "display(scenario_df.round(2))\n",
    "\n",
    "# plot ROI surface (cost vs success)\n",
    "pivot = scenario_df.pivot(index='success_rate', columns='cost_per_contact', values='roi')\n",
    "plt.figure(figsize=(6,4))\n",
    "sns.heatmap(pivot, annot=True, fmt='.2f', cmap='RdYlGn', center=0)\n",
    "plt.title('ROI for High segment (vary cost and success rate)')\n",
    "plt.show()\n"
   ]
  },
  {
   "cell_type": "markdown",
   "id": "341fc201",
   "metadata": {},
   "source": [
    "### 10. Prioritization & Resource Allocation (simple rule-of-thumb)\n",
    "1. Run a small pilot on the High segment to estimate actual campaign_success_rate and cost_per_contact.\n",
    "2. If pilot ROI > 0 and lifts churn reduction, scale up to larger High segment; evaluate Medium segment next.\n",
    "3. For Low segment prioritize upsell strategies (different KPI).\n"
   ]
  },
  {
   "cell_type": "code",
   "execution_count": null,
   "id": "3e5c5805",
   "metadata": {},
   "outputs": [
    {
     "data": {
      "application/vnd.microsoft.datawrangler.viewer.v0+json": {
       "columns": [
        {
         "name": "index",
         "rawType": "int64",
         "type": "integer"
        },
        {
         "name": "segment",
         "rawType": "object",
         "type": "string"
        },
        {
         "name": "n_customers",
         "rawType": "float64",
         "type": "float"
        },
        {
         "name": "total_ev_saved",
         "rawType": "float64",
         "type": "float"
        },
        {
         "name": "total_cost",
         "rawType": "float64",
         "type": "float"
        },
        {
         "name": "net_gain",
         "rawType": "float64",
         "type": "float"
        },
        {
         "name": "roi",
         "rawType": "float64",
         "type": "float"
        },
        {
         "name": "actions",
         "rawType": "object",
         "type": "string"
        }
       ],
       "ref": "3976517d-07a7-409d-8bf9-82185374ea90",
       "rows": [
        [
         "0",
         "High",
         "1794.0",
         "113702.09",
         "17940.0",
         "95762.09",
         "5.34",
         "Retention call + personalized discount; 1:1 support; save-to-contract incentives"
        ],
        [
         "1",
         "Medium",
         "250.0",
         "8260.99",
         "2500.0",
         "5760.99",
         "2.3",
         "Targeted email + promo; trial add-on services; customer success outreach"
        ],
        [
         "2",
         "Low",
         "4999.0",
         "24524.44",
         "49990.0",
         "-25465.56",
         "-0.51",
         "Upsell offers + loyalty rewards; referral program"
        ]
       ],
       "shape": {
        "columns": 7,
        "rows": 3
       }
      },
      "text/html": [
       "<div>\n",
       "<style scoped>\n",
       "    .dataframe tbody tr th:only-of-type {\n",
       "        vertical-align: middle;\n",
       "    }\n",
       "\n",
       "    .dataframe tbody tr th {\n",
       "        vertical-align: top;\n",
       "    }\n",
       "\n",
       "    .dataframe thead th {\n",
       "        text-align: right;\n",
       "    }\n",
       "</style>\n",
       "<table border=\"1\" class=\"dataframe\">\n",
       "  <thead>\n",
       "    <tr style=\"text-align: right;\">\n",
       "      <th></th>\n",
       "      <th>segment</th>\n",
       "      <th>n_customers</th>\n",
       "      <th>total_ev_saved</th>\n",
       "      <th>total_cost</th>\n",
       "      <th>net_gain</th>\n",
       "      <th>roi</th>\n",
       "      <th>actions</th>\n",
       "    </tr>\n",
       "  </thead>\n",
       "  <tbody>\n",
       "    <tr>\n",
       "      <th>0</th>\n",
       "      <td>High</td>\n",
       "      <td>1794.0</td>\n",
       "      <td>113702.09</td>\n",
       "      <td>17940.0</td>\n",
       "      <td>95762.09</td>\n",
       "      <td>5.34</td>\n",
       "      <td>Retention call + personalized discount; 1:1 su...</td>\n",
       "    </tr>\n",
       "    <tr>\n",
       "      <th>1</th>\n",
       "      <td>Medium</td>\n",
       "      <td>250.0</td>\n",
       "      <td>8260.99</td>\n",
       "      <td>2500.0</td>\n",
       "      <td>5760.99</td>\n",
       "      <td>2.30</td>\n",
       "      <td>Targeted email + promo; trial add-on services;...</td>\n",
       "    </tr>\n",
       "    <tr>\n",
       "      <th>2</th>\n",
       "      <td>Low</td>\n",
       "      <td>4999.0</td>\n",
       "      <td>24524.44</td>\n",
       "      <td>49990.0</td>\n",
       "      <td>-25465.56</td>\n",
       "      <td>-0.51</td>\n",
       "      <td>Upsell offers + loyalty rewards; referral program</td>\n",
       "    </tr>\n",
       "  </tbody>\n",
       "</table>\n",
       "</div>"
      ],
      "text/plain": [
       "  segment  n_customers  total_ev_saved  total_cost  net_gain   roi  \\\n",
       "0    High       1794.0       113702.09     17940.0  95762.09  5.34   \n",
       "1  Medium        250.0         8260.99      2500.0   5760.99  2.30   \n",
       "2     Low       4999.0        24524.44     49990.0 -25465.56 -0.51   \n",
       "\n",
       "                                             actions  \n",
       "0  Retention call + personalized discount; 1:1 su...  \n",
       "1  Targeted email + promo; trial add-on services;...  \n",
       "2  Upsell offers + loyalty rewards; referral program  "
      ]
     },
     "metadata": {},
     "output_type": "display_data"
    }
   ],
   "source": [
    "# Compute ROI summary next to strategy table\n",
    "roi_summary = pd.DataFrame(results).T.reset_index().rename(columns={'index':'segment'})\n",
    "roi_summary = roi_summary.merge(strategy_df, on='segment', how='left')\n",
    "display(roi_summary[['segment','n_customers','total_ev_saved','total_cost','net_gain','roi','actions']].round(2))"
   ]
  },
  {
   "cell_type": "markdown",
   "id": "7017c75b",
   "metadata": {},
   "source": [
    "### 11. Save results & top-customer lists for campaign execution"
   ]
  },
  {
   "cell_type": "code",
   "execution_count": 26,
   "id": "cb61005b",
   "metadata": {},
   "outputs": [
    {
     "name": "stdout",
     "output_type": "stream",
     "text": [
      "Saved scored dataset and campaign lists to E:\\Projects\\mini-project\\reports\n",
      "Sample top customers (top 5):\n"
     ]
    },
    {
     "data": {
      "application/vnd.microsoft.datawrangler.viewer.v0+json": {
       "columns": [
        {
         "name": "index",
         "rawType": "int64",
         "type": "integer"
        },
        {
         "name": "customerID",
         "rawType": "object",
         "type": "string"
        },
        {
         "name": "gender",
         "rawType": "object",
         "type": "string"
        },
        {
         "name": "SeniorCitizen",
         "rawType": "int64",
         "type": "integer"
        },
        {
         "name": "Partner",
         "rawType": "object",
         "type": "string"
        },
        {
         "name": "Dependents",
         "rawType": "object",
         "type": "string"
        },
        {
         "name": "tenure",
         "rawType": "int64",
         "type": "integer"
        },
        {
         "name": "PhoneService",
         "rawType": "object",
         "type": "string"
        },
        {
         "name": "MultipleLines",
         "rawType": "object",
         "type": "string"
        },
        {
         "name": "InternetService",
         "rawType": "object",
         "type": "string"
        },
        {
         "name": "OnlineSecurity",
         "rawType": "object",
         "type": "string"
        },
        {
         "name": "OnlineBackup",
         "rawType": "object",
         "type": "string"
        },
        {
         "name": "DeviceProtection",
         "rawType": "object",
         "type": "string"
        },
        {
         "name": "TechSupport",
         "rawType": "object",
         "type": "string"
        },
        {
         "name": "StreamingTV",
         "rawType": "object",
         "type": "string"
        },
        {
         "name": "StreamingMovies",
         "rawType": "object",
         "type": "string"
        },
        {
         "name": "Contract",
         "rawType": "object",
         "type": "string"
        },
        {
         "name": "PaperlessBilling",
         "rawType": "object",
         "type": "string"
        },
        {
         "name": "PaymentMethod",
         "rawType": "object",
         "type": "string"
        },
        {
         "name": "MonthlyCharges",
         "rawType": "float64",
         "type": "float"
        },
        {
         "name": "TotalCharges",
         "rawType": "float64",
         "type": "float"
        },
        {
         "name": "Churn",
         "rawType": "object",
         "type": "string"
        },
        {
         "name": "tenure_group",
         "rawType": "object",
         "type": "string"
        },
        {
         "name": "services_count",
         "rawType": "float64",
         "type": "float"
        },
        {
         "name": "avg_charge_per_month",
         "rawType": "float64",
         "type": "float"
        },
        {
         "name": "churn_proba",
         "rawType": "float64",
         "type": "float"
        },
        {
         "name": "segment_fixed",
         "rawType": "object",
         "type": "string"
        },
        {
         "name": "segment_quantile",
         "rawType": "object",
         "type": "string"
        },
        {
         "name": "segment_costopt",
         "rawType": "object",
         "type": "string"
        }
       ],
       "ref": "0bc459f3-8034-45af-b9ab-e687027869b7",
       "rows": [
        [
         "3310",
         "9885-CSMWE",
         "Female",
         "1",
         "No",
         "No",
         "1",
         "Yes",
         "No",
         "Fiber optic",
         "No",
         "No",
         "No",
         "No",
         "Yes",
         "No",
         "Month-to-month",
         "No",
         "Electronic check",
         "78.45",
         "78.45",
         "Yes",
         "0 months",
         "2.0",
         "78.45",
         "1.0",
         "High",
         "High",
         "High"
        ],
        [
         "2367",
         "0235-KGSLC",
         "Female",
         "0",
         "No",
         "No",
         "1",
         "Yes",
         "No",
         "Fiber optic",
         "No",
         "No",
         "Yes",
         "No",
         "Yes",
         "No",
         "Month-to-month",
         "Yes",
         "Credit card (automatic)",
         "85.55",
         "85.55",
         "Yes",
         "0 months",
         "3.0",
         "85.55",
         "1.0",
         "High",
         "High",
         "High"
        ],
        [
         "3294",
         "1086-LXKFY",
         "Female",
         "0",
         "Yes",
         "Yes",
         "1",
         "Yes",
         "No",
         "Fiber optic",
         "No",
         "No",
         "No",
         "No",
         "No",
         "No",
         "Month-to-month",
         "Yes",
         "Mailed check",
         "69.1",
         "69.1",
         "Yes",
         "0 months",
         "1.0",
         "69.1",
         "1.0",
         "High",
         "High",
         "High"
        ],
        [
         "3216",
         "7250-EQKIY",
         "Female",
         "0",
         "Yes",
         "Yes",
         "1",
         "Yes",
         "No",
         "DSL",
         "No",
         "No",
         "Yes",
         "No",
         "No",
         "No",
         "Month-to-month",
         "No",
         "Mailed check",
         "50.45",
         "50.45",
         "Yes",
         "0 months",
         "2.0",
         "50.45",
         "1.0",
         "High",
         "High",
         "High"
        ],
        [
         "3906",
         "6372-RFVNS",
         "Female",
         "0",
         "Yes",
         "No",
         "1",
         "Yes",
         "No",
         "Fiber optic",
         "No",
         "No",
         "No",
         "No",
         "Yes",
         "No",
         "Month-to-month",
         "No",
         "Electronic check",
         "78.8",
         "78.8",
         "Yes",
         "0 months",
         "2.0",
         "78.8",
         "1.0",
         "High",
         "High",
         "High"
        ]
       ],
       "shape": {
        "columns": 28,
        "rows": 5
       }
      },
      "text/html": [
       "<div>\n",
       "<style scoped>\n",
       "    .dataframe tbody tr th:only-of-type {\n",
       "        vertical-align: middle;\n",
       "    }\n",
       "\n",
       "    .dataframe tbody tr th {\n",
       "        vertical-align: top;\n",
       "    }\n",
       "\n",
       "    .dataframe thead th {\n",
       "        text-align: right;\n",
       "    }\n",
       "</style>\n",
       "<table border=\"1\" class=\"dataframe\">\n",
       "  <thead>\n",
       "    <tr style=\"text-align: right;\">\n",
       "      <th></th>\n",
       "      <th>customerID</th>\n",
       "      <th>gender</th>\n",
       "      <th>SeniorCitizen</th>\n",
       "      <th>Partner</th>\n",
       "      <th>Dependents</th>\n",
       "      <th>tenure</th>\n",
       "      <th>PhoneService</th>\n",
       "      <th>MultipleLines</th>\n",
       "      <th>InternetService</th>\n",
       "      <th>OnlineSecurity</th>\n",
       "      <th>...</th>\n",
       "      <th>MonthlyCharges</th>\n",
       "      <th>TotalCharges</th>\n",
       "      <th>Churn</th>\n",
       "      <th>tenure_group</th>\n",
       "      <th>services_count</th>\n",
       "      <th>avg_charge_per_month</th>\n",
       "      <th>churn_proba</th>\n",
       "      <th>segment_fixed</th>\n",
       "      <th>segment_quantile</th>\n",
       "      <th>segment_costopt</th>\n",
       "    </tr>\n",
       "  </thead>\n",
       "  <tbody>\n",
       "    <tr>\n",
       "      <th>3310</th>\n",
       "      <td>9885-CSMWE</td>\n",
       "      <td>Female</td>\n",
       "      <td>1</td>\n",
       "      <td>No</td>\n",
       "      <td>No</td>\n",
       "      <td>1</td>\n",
       "      <td>Yes</td>\n",
       "      <td>No</td>\n",
       "      <td>Fiber optic</td>\n",
       "      <td>No</td>\n",
       "      <td>...</td>\n",
       "      <td>78.45</td>\n",
       "      <td>78.45</td>\n",
       "      <td>Yes</td>\n",
       "      <td>0 months</td>\n",
       "      <td>2.0</td>\n",
       "      <td>78.45</td>\n",
       "      <td>1.0</td>\n",
       "      <td>High</td>\n",
       "      <td>High</td>\n",
       "      <td>High</td>\n",
       "    </tr>\n",
       "    <tr>\n",
       "      <th>2367</th>\n",
       "      <td>0235-KGSLC</td>\n",
       "      <td>Female</td>\n",
       "      <td>0</td>\n",
       "      <td>No</td>\n",
       "      <td>No</td>\n",
       "      <td>1</td>\n",
       "      <td>Yes</td>\n",
       "      <td>No</td>\n",
       "      <td>Fiber optic</td>\n",
       "      <td>No</td>\n",
       "      <td>...</td>\n",
       "      <td>85.55</td>\n",
       "      <td>85.55</td>\n",
       "      <td>Yes</td>\n",
       "      <td>0 months</td>\n",
       "      <td>3.0</td>\n",
       "      <td>85.55</td>\n",
       "      <td>1.0</td>\n",
       "      <td>High</td>\n",
       "      <td>High</td>\n",
       "      <td>High</td>\n",
       "    </tr>\n",
       "    <tr>\n",
       "      <th>3294</th>\n",
       "      <td>1086-LXKFY</td>\n",
       "      <td>Female</td>\n",
       "      <td>0</td>\n",
       "      <td>Yes</td>\n",
       "      <td>Yes</td>\n",
       "      <td>1</td>\n",
       "      <td>Yes</td>\n",
       "      <td>No</td>\n",
       "      <td>Fiber optic</td>\n",
       "      <td>No</td>\n",
       "      <td>...</td>\n",
       "      <td>69.10</td>\n",
       "      <td>69.10</td>\n",
       "      <td>Yes</td>\n",
       "      <td>0 months</td>\n",
       "      <td>1.0</td>\n",
       "      <td>69.10</td>\n",
       "      <td>1.0</td>\n",
       "      <td>High</td>\n",
       "      <td>High</td>\n",
       "      <td>High</td>\n",
       "    </tr>\n",
       "    <tr>\n",
       "      <th>3216</th>\n",
       "      <td>7250-EQKIY</td>\n",
       "      <td>Female</td>\n",
       "      <td>0</td>\n",
       "      <td>Yes</td>\n",
       "      <td>Yes</td>\n",
       "      <td>1</td>\n",
       "      <td>Yes</td>\n",
       "      <td>No</td>\n",
       "      <td>DSL</td>\n",
       "      <td>No</td>\n",
       "      <td>...</td>\n",
       "      <td>50.45</td>\n",
       "      <td>50.45</td>\n",
       "      <td>Yes</td>\n",
       "      <td>0 months</td>\n",
       "      <td>2.0</td>\n",
       "      <td>50.45</td>\n",
       "      <td>1.0</td>\n",
       "      <td>High</td>\n",
       "      <td>High</td>\n",
       "      <td>High</td>\n",
       "    </tr>\n",
       "    <tr>\n",
       "      <th>3906</th>\n",
       "      <td>6372-RFVNS</td>\n",
       "      <td>Female</td>\n",
       "      <td>0</td>\n",
       "      <td>Yes</td>\n",
       "      <td>No</td>\n",
       "      <td>1</td>\n",
       "      <td>Yes</td>\n",
       "      <td>No</td>\n",
       "      <td>Fiber optic</td>\n",
       "      <td>No</td>\n",
       "      <td>...</td>\n",
       "      <td>78.80</td>\n",
       "      <td>78.80</td>\n",
       "      <td>Yes</td>\n",
       "      <td>0 months</td>\n",
       "      <td>2.0</td>\n",
       "      <td>78.80</td>\n",
       "      <td>1.0</td>\n",
       "      <td>High</td>\n",
       "      <td>High</td>\n",
       "      <td>High</td>\n",
       "    </tr>\n",
       "  </tbody>\n",
       "</table>\n",
       "<p>5 rows × 28 columns</p>\n",
       "</div>"
      ],
      "text/plain": [
       "      customerID  gender  SeniorCitizen Partner Dependents  tenure  \\\n",
       "3310  9885-CSMWE  Female              1      No         No       1   \n",
       "2367  0235-KGSLC  Female              0      No         No       1   \n",
       "3294  1086-LXKFY  Female              0     Yes        Yes       1   \n",
       "3216  7250-EQKIY  Female              0     Yes        Yes       1   \n",
       "3906  6372-RFVNS  Female              0     Yes         No       1   \n",
       "\n",
       "     PhoneService MultipleLines InternetService OnlineSecurity  ...  \\\n",
       "3310          Yes            No     Fiber optic             No  ...   \n",
       "2367          Yes            No     Fiber optic             No  ...   \n",
       "3294          Yes            No     Fiber optic             No  ...   \n",
       "3216          Yes            No             DSL             No  ...   \n",
       "3906          Yes            No     Fiber optic             No  ...   \n",
       "\n",
       "     MonthlyCharges TotalCharges Churn tenure_group services_count  \\\n",
       "3310          78.45        78.45   Yes     0 months            2.0   \n",
       "2367          85.55        85.55   Yes     0 months            3.0   \n",
       "3294          69.10        69.10   Yes     0 months            1.0   \n",
       "3216          50.45        50.45   Yes     0 months            2.0   \n",
       "3906          78.80        78.80   Yes     0 months            2.0   \n",
       "\n",
       "     avg_charge_per_month churn_proba segment_fixed  segment_quantile  \\\n",
       "3310                78.45         1.0          High              High   \n",
       "2367                85.55         1.0          High              High   \n",
       "3294                69.10         1.0          High              High   \n",
       "3216                50.45         1.0          High              High   \n",
       "3906                78.80         1.0          High              High   \n",
       "\n",
       "      segment_costopt  \n",
       "3310             High  \n",
       "2367             High  \n",
       "3294             High  \n",
       "3216             High  \n",
       "3906             High  \n",
       "\n",
       "[5 rows x 28 columns]"
      ]
     },
     "metadata": {},
     "output_type": "display_data"
    }
   ],
   "source": [
    "out_dir = Path('reports')\n",
    "out_dir.mkdir(parents=True, exist_ok=True)\n",
    "\n",
    "# Save scored dataset and segment lists\n",
    "df.to_csv(out_dir / 'scored_customers.csv', index=False)\n",
    "# Save top N high-risk customers for immediate contact\n",
    "topN = 100\n",
    "top_customers = df.sort_values('churn_proba', ascending=False).head(topN)\n",
    "top_customers.to_csv(out_dir / 'top100_high_risk_customers.csv', index=False)\n",
    "\n",
    "# Save ROI scenario table\n",
    "scenario_df.to_csv(out_dir / 'roi_scenarios_high_segment.csv', index=False)\n",
    "\n",
    "print('Saved scored dataset and campaign lists to', out_dir.resolve())\n",
    "print('Sample top customers (top 5):')\n",
    "display(top_customers.head())\n"
   ]
  }
 ],
 "metadata": {
  "kernelspec": {
   "display_name": "newone",
   "language": "python",
   "name": "python3"
  },
  "language_info": {
   "codemirror_mode": {
    "name": "ipython",
    "version": 3
   },
   "file_extension": ".py",
   "mimetype": "text/x-python",
   "name": "python",
   "nbconvert_exporter": "python",
   "pygments_lexer": "ipython3",
   "version": "3.11.13"
  }
 },
 "nbformat": 4,
 "nbformat_minor": 5
}
