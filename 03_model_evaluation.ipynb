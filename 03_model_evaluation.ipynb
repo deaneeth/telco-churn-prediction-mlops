{
 "cells": [
  {
   "cell_type": "markdown",
   "id": "5d846ec7",
   "metadata": {},
   "source": [
    "## Telco Customer Churn - Part 3 : Model Evaluation for Telco Customer Churn"
   ]
  },
  {
   "cell_type": "code",
   "execution_count": 12,
   "id": "e8e261ce",
   "metadata": {},
   "outputs": [],
   "source": [
    "!pip install -q -r requirements.txt"
   ]
  },
  {
   "cell_type": "code",
   "execution_count": 65,
   "id": "05ba0738",
   "metadata": {},
   "outputs": [
    {
     "name": "stdout",
     "output_type": "stream",
     "text": [
      "imblearn version: 0.14.0\n",
      "scikit-learn version: 1.7.0\n"
     ]
    }
   ],
   "source": [
    "import imblearn\n",
    "import sklearn\n",
    "\n",
    "print(f\"imblearn version: {imblearn.__version__}\")\n",
    "print(f\"scikit-learn version: {sklearn.__version__}\")"
   ]
  },
  {
   "cell_type": "markdown",
   "id": "fd72213d",
   "metadata": {},
   "source": [
    "### 0. Imports & helper functions"
   ]
  },
  {
   "cell_type": "code",
   "execution_count": 66,
   "id": "62fbc897",
   "metadata": {},
   "outputs": [],
   "source": [
    "import numpy as np\n",
    "import pandas as pd\n",
    "import matplotlib.pyplot as plt\n",
    "import seaborn as sns\n",
    "from sklearn.metrics import (roc_auc_score, average_precision_score, precision_score,\n",
    "                             recall_score, f1_score, confusion_matrix, precision_recall_curve,\n",
    "                             roc_curve, auc, classification_report, precision_recall_fscore_support)\n",
    "import joblib\n",
    "import os\n",
    "import warnings\n",
    "import itertools\n",
    "from scipy import stats\n",
    "\n",
    "plt.rcParams['figure.figsize'] = (10, 6)\n",
    "pd.set_option('display.max_columns', 200)"
   ]
  },
  {
   "cell_type": "markdown",
   "id": "1fc8d634",
   "metadata": {},
   "source": [
    "### 1. Load data and ensure y_test exists (uses X_test, y_test from Part2 if in memory)"
   ]
  },
  {
   "cell_type": "code",
   "execution_count": 67,
   "id": "fb5899e2",
   "metadata": {},
   "outputs": [
    {
     "name": "stdout",
     "output_type": "stream",
     "text": [
      "Using X_test/y_test available in the notebook namespace.\n"
     ]
    }
   ],
   "source": [
    "if 'X_test' not in globals() or 'y_test' not in globals():\n",
    "    print(\"X_test/y_test not in memory - reloading dataset and doing a quick stratified split.\")\n",
    "    df = pd.read_csv('src/data/processed/telco-customer-churn_cleaned.csv')\n",
    "    df['Churn_flag'] = df['Churn'].map({'No':0,'Yes':1})\n",
    "    from sklearn.model_selection import train_test_split\n",
    "    X = df.drop(columns=['Churn','Churn_flag'])\n",
    "    y = df['Churn_flag']\n",
    "    X_train, X_test, y_train, y_test = train_test_split(X,y,stratify=y,test_size=0.2,random_state=42)\n",
    "else:\n",
    "    print(\"Using X_test/y_test available in the notebook namespace.\")\n"
   ]
  },
  {
   "cell_type": "markdown",
   "id": "e5befd5a",
   "metadata": {},
   "source": [
    "### 2. Gather models to evaluate."
   ]
  },
  {
   "cell_type": "code",
   "execution_count": 68,
   "id": "49c9eeec",
   "metadata": {},
   "outputs": [
    {
     "name": "stdout",
     "output_type": "stream",
     "text": [
      "Loaded RandomForest from models/trained_models/rf_best_pipeline.joblib\n",
      "Loaded DecisionTree from models/trained_models/baseline_dt_pipeline.joblib\n",
      "Loaded LogisticRegression from models/trained_models/baseline_lr_pipeline.joblib\n",
      "Loaded XGBoost from models/trained_models/xgb_best_pipeline.joblib\n",
      "Loaded CatBoost from models/trained_models/cat_best_pipeline.joblib\n",
      "Loaded Stacking from models/trained_models/stacking_ensemble_pipeline.joblib\n",
      "Models to evaluate: ['LogisticRegression', 'DecisionTree', 'RandomForest', 'XGBoost', 'CatBoost', 'Stacking']\n",
      "Loaded Stacking from models/trained_models/stacking_ensemble_pipeline.joblib\n",
      "Models to evaluate: ['LogisticRegression', 'DecisionTree', 'RandomForest', 'XGBoost', 'CatBoost', 'Stacking']\n"
     ]
    }
   ],
   "source": [
    "model_candidates = {\n",
    "    'LogisticRegression': globals().get('baseline_lr'),        # pipeline\n",
    "    'DecisionTree': globals().get('baseline_dt'),\n",
    "    'RandomForest': globals().get('rf_best'),\n",
    "    'XGBoost': globals().get('xgb_best'),\n",
    "    'CatBoost': globals().get('cat_best'),\n",
    "    'Stacking': globals().get('stacking_clf'),\n",
    "}\n",
    "\n",
    "# Attempt to load joblib files if needed\n",
    "joblib_map = {\n",
    "    'RandomForest': 'models/trained_models/rf_best_pipeline.joblib',\n",
    "    'DecisionTree': 'models/trained_models/baseline_dt_pipeline.joblib',\n",
    "    'LogisticRegression': 'models/trained_models/baseline_lr_pipeline.joblib',\n",
    "    'XGBoost': 'models/trained_models/xgb_best_pipeline.joblib',\n",
    "    'CatBoost': 'models/trained_models/cat_best_pipeline.joblib',\n",
    "    'Stacking': 'models/trained_models/stacking_ensemble_pipeline.joblib',\n",
    "}\n",
    "\n",
    "for name, path in joblib_map.items():\n",
    "    if model_candidates.get(name) is None and os.path.exists(path):\n",
    "        try:\n",
    "            model_candidates[name] = joblib.load(path)\n",
    "            print(f'Loaded {name} from {path}')\n",
    "        except Exception as e:\n",
    "            print(f'Failed to load {name} from joblib: {e}')\n",
    "\n",
    "# Filter to models that exist\n",
    "models = {k:v for k,v in model_candidates.items() if v is not None}\n",
    "print(\"Models to evaluate:\", list(models.keys()))"
   ]
  },
  {
   "cell_type": "markdown",
   "id": "5c99d206",
   "metadata": {},
   "source": [
    "### 3. Utility: safe predict_proba - returns probabilities for positive class"
   ]
  },
  {
   "cell_type": "code",
   "execution_count": 69,
   "id": "afcad292",
   "metadata": {},
   "outputs": [],
   "source": [
    "def safe_predict_proba(model, X):\n",
    "    # Print model information for debugging\n",
    "    model_type = type(model).__name__\n",
    "    \n",
    "    # If the model is a pipeline, try to access the final estimator\n",
    "    if hasattr(model, 'steps') and len(model.steps) > 0:\n",
    "        try:\n",
    "            # Get the final estimator from the pipeline\n",
    "            final_step_name, final_estimator = model.steps[-1]\n",
    "            print(f\"  Pipeline detected. Final estimator: {type(final_estimator).__name__}\")\n",
    "            \n",
    "            # First try: use the full pipeline for prediction\n",
    "            try:\n",
    "                if hasattr(model, 'predict_proba'):\n",
    "                    print(\"  Attempting predict_proba on pipeline...\")\n",
    "                    return model.predict_proba(X)[:, 1]\n",
    "            except Exception as e:\n",
    "                print(f\"  Pipeline predict_proba failed: {e}\")\n",
    "                \n",
    "            # Second try: use decision_function on pipeline\n",
    "            try:\n",
    "                if hasattr(model, 'decision_function'):\n",
    "                    print(\"  Attempting decision_function on pipeline...\")\n",
    "                    scores = model.decision_function(X)\n",
    "                    # Convert scores to probabilities using sigmoid\n",
    "                    return 1 / (1 + np.exp(-scores))\n",
    "            except Exception as e:\n",
    "                print(f\"  Pipeline decision_function failed: {e}\")\n",
    "                \n",
    "            # Last try: try to apply transformations manually then use final estimator\n",
    "            print(\"  Attempting manual pipeline execution...\")\n",
    "            current_data = X\n",
    "            for step_name, transformer in model.steps[:-1]:\n",
    "                current_data = transformer.transform(current_data)\n",
    "            \n",
    "            if hasattr(final_estimator, 'predict_proba'):\n",
    "                return final_estimator.predict_proba(current_data)[:, 1]\n",
    "            elif hasattr(final_estimator, 'decision_function'):\n",
    "                scores = final_estimator.decision_function(current_data)\n",
    "                return 1 / (1 + np.exp(-scores))\n",
    "                \n",
    "        except Exception as e:\n",
    "            print(f\"  All pipeline approaches failed: {e}\")\n",
    "    \n",
    "    print(f\"  Trying direct model prediction for {model_type}...\")\n",
    "    \n",
    "    # Try predict_proba\n",
    "    if hasattr(model, 'predict_proba'):\n",
    "        try:\n",
    "            return model.predict_proba(X)[:, 1]\n",
    "        except Exception as e:\n",
    "            print(f\"  Direct predict_proba failed: {e}\")\n",
    "    \n",
    "    # Try decision_function\n",
    "    if hasattr(model, 'decision_function'):\n",
    "        try:\n",
    "            scores = model.decision_function(X)\n",
    "            return 1 / (1 + np.exp(-scores))\n",
    "        except Exception as e:\n",
    "            print(f\"  Direct decision_function failed: {e}\")\n",
    "    \n",
    "    # If we reach here, we couldn't get probabilities\n",
    "    raise ValueError(f\"Could not get probability predictions from {model_type} using any method\")"
   ]
  },
  {
   "cell_type": "code",
   "execution_count": 70,
   "id": "378d34a6",
   "metadata": {},
   "outputs": [
    {
     "name": "stdout",
     "output_type": "stream",
     "text": [
      "\n",
      "--- Model: LogisticRegression ---\n",
      "Type: <class 'sklearn.pipeline.Pipeline'>\n",
      "Pipeline steps: 2\n",
      "  Step 0: pre - <class 'sklearn.compose._column_transformer.ColumnTransformer'>\n",
      "  Step 1: clf - <class 'sklearn.linear_model._logistic.LogisticRegression'>\n",
      "\n",
      "Final estimator: clf - <class 'sklearn.linear_model._logistic.LogisticRegression'>\n",
      "  Has predict_proba: True\n",
      "  Has decision_function: True\n",
      "\n",
      "--- Model: DecisionTree ---\n",
      "Type: <class 'sklearn.pipeline.Pipeline'>\n",
      "Pipeline steps: 2\n",
      "  Step 0: pre - <class 'sklearn.compose._column_transformer.ColumnTransformer'>\n",
      "  Step 1: clf - <class 'sklearn.tree._classes.DecisionTreeClassifier'>\n",
      "\n",
      "Final estimator: clf - <class 'sklearn.tree._classes.DecisionTreeClassifier'>\n",
      "  Has predict_proba: True\n",
      "  Has decision_function: False\n",
      "\n",
      "--- Model: RandomForest ---\n",
      "Type: <class 'sklearn.pipeline.Pipeline'>\n",
      "Pipeline steps: 2\n",
      "  Step 0: pre - <class 'sklearn.compose._column_transformer.ColumnTransformer'>\n",
      "  Step 1: clf - <class 'sklearn.ensemble._forest.RandomForestClassifier'>\n",
      "\n",
      "Final estimator: clf - <class 'sklearn.ensemble._forest.RandomForestClassifier'>\n",
      "  Has predict_proba: True\n",
      "  Has decision_function: False\n",
      "\n",
      "--- Model: XGBoost ---\n",
      "Type: <class 'sklearn.pipeline.Pipeline'>\n",
      "Pipeline steps: 2\n",
      "  Step 0: pre - <class 'sklearn.compose._column_transformer.ColumnTransformer'>\n",
      "  Step 1: clf - <class 'xgboost.sklearn.XGBClassifier'>\n",
      "\n",
      "Final estimator: clf - <class 'xgboost.sklearn.XGBClassifier'>\n",
      "  Has predict_proba: True\n",
      "  Has decision_function: False\n",
      "\n",
      "--- Model: CatBoost ---\n",
      "Type: <class 'sklearn.pipeline.Pipeline'>\n",
      "Pipeline steps: 2\n",
      "  Step 0: pre - <class 'sklearn.compose._column_transformer.ColumnTransformer'>\n",
      "  Step 1: clf - <class 'catboost.core.CatBoostClassifier'>\n",
      "\n",
      "Final estimator: clf - <class 'catboost.core.CatBoostClassifier'>\n",
      "  Has predict_proba: True\n",
      "  Has decision_function: False\n",
      "\n",
      "--- Model: Stacking ---\n",
      "Type: <class 'dict'>\n",
      "Not a pipeline\n",
      "Has predict_proba: False\n",
      "Has decision_function: False\n"
     ]
    }
   ],
   "source": [
    "# Diagnose loaded models to understand their structure\n",
    "for name, model in models.items():\n",
    "    print(f\"\\n--- Model: {name} ---\")\n",
    "    print(f\"Type: {type(model)}\")\n",
    "    \n",
    "    # Check if it's a pipeline\n",
    "    if hasattr(model, 'steps'):\n",
    "        print(f\"Pipeline steps: {len(model.steps)}\")\n",
    "        for i, (step_name, step) in enumerate(model.steps):\n",
    "            print(f\"  Step {i}: {step_name} - {type(step)}\")\n",
    "            \n",
    "        # Check final estimator\n",
    "        final_step_name, final_estimator = model.steps[-1]\n",
    "        print(f\"\\nFinal estimator: {final_step_name} - {type(final_estimator)}\")\n",
    "        print(f\"  Has predict_proba: {hasattr(final_estimator, 'predict_proba')}\")\n",
    "        print(f\"  Has decision_function: {hasattr(final_estimator, 'decision_function')}\")\n",
    "    else:\n",
    "        # Not a pipeline\n",
    "        print(f\"Not a pipeline\")\n",
    "        print(f\"Has predict_proba: {hasattr(model, 'predict_proba')}\")\n",
    "        print(f\"Has decision_function: {hasattr(model, 'decision_function')}\")"
   ]
  },
  {
   "cell_type": "code",
   "execution_count": 71,
   "id": "837a5dd6",
   "metadata": {},
   "outputs": [
    {
     "name": "stdout",
     "output_type": "stream",
     "text": [
      "\n",
      "=== Stacking Model Detailed Inspection ===\n",
      "Dictionary keys: ['preprocessor', 'model']\n"
     ]
    }
   ],
   "source": [
    "# Detailed inspection of stacking model structure\n",
    "if 'Stacking' in models and isinstance(models['Stacking'], dict):\n",
    "    stacking_model = models['Stacking']\n",
    "    print(\"\\n=== Stacking Model Detailed Inspection ===\")\n",
    "    print(f\"Dictionary keys: {list(stacking_model.keys())}\")\n",
    "    \n",
    "    # Check for common stacking model structures\n",
    "    if 'meta_estimator' in stacking_model:\n",
    "        print(f\"\\nMeta-estimator type: {type(stacking_model['meta_estimator'])}\")\n",
    "        print(f\"Meta-estimator has predict_proba: {hasattr(stacking_model['meta_estimator'], 'predict_proba')}\")\n",
    "    \n",
    "    if 'base_models' in stacking_model:\n",
    "        print(\"\\nBase models:\")\n",
    "        for name, model in stacking_model['base_models'].items():\n",
    "            print(f\"  - {name}: {type(model)}\")\n",
    "            print(f\"    Has predict_proba: {hasattr(model, 'predict_proba')}\")\n",
    "    \n",
    "    # For StackingClassifier-like structure\n",
    "    if 'estimators_' in stacking_model:\n",
    "        print(\"\\nFound sklearn StackingClassifier-like structure\")\n",
    "        print(f\"estimators_: {stacking_model['estimators_']}\")\n",
    "        \n",
    "    if 'final_estimator_' in stacking_model:\n",
    "        print(f\"\\nfinal_estimator_: {type(stacking_model['final_estimator_'])}\")\n",
    "    \n",
    "    # Other possible attributes\n",
    "    for key in ['stack_method', 'passthrough', 'classes_']:\n",
    "        if key in stacking_model:\n",
    "            print(f\"\\n{key}: {stacking_model[key]}\")"
   ]
  },
  {
   "cell_type": "markdown",
   "id": "5b291523",
   "metadata": {},
   "source": [
    "### 4. Evaluate each model at default threshold 0.5, and compute PR/ROC AUC"
   ]
  },
  {
   "cell_type": "code",
   "execution_count": 72,
   "id": "a240c6c3",
   "metadata": {},
   "outputs": [
    {
     "name": "stdout",
     "output_type": "stream",
     "text": [
      "\n",
      "Evaluating LogisticRegression...\n",
      "  Pipeline detected. Final estimator: LogisticRegression\n",
      "  Attempting predict_proba on pipeline...\n",
      "  Successfully evaluated LogisticRegression! ROC AUC: 0.6873, F1: 0.4881\n",
      "\n",
      "Evaluating DecisionTree...\n",
      "  Pipeline detected. Final estimator: DecisionTreeClassifier\n",
      "  Attempting predict_proba on pipeline...\n",
      "  Successfully evaluated DecisionTree! ROC AUC: 0.6087, F1: 0.4297\n",
      "\n",
      "Evaluating RandomForest...\n",
      "  Pipeline detected. Final estimator: RandomForestClassifier\n",
      "  Attempting predict_proba on pipeline...\n",
      "  Successfully evaluated RandomForest! ROC AUC: 0.8373, F1: 0.6282\n",
      "\n",
      "Evaluating XGBoost...\n",
      "  Pipeline detected. Final estimator: XGBClassifier\n",
      "  Attempting predict_proba on pipeline...\n",
      "  Successfully evaluated XGBoost! ROC AUC: 0.8458, F1: 0.5710\n",
      "\n",
      "Evaluating CatBoost...\n",
      "  Pipeline detected. Final estimator: CatBoostClassifier\n",
      "  Attempting predict_proba on pipeline...\n",
      "  Pipeline predict_proba failed: Invalid type for cat_feature[non-default value idx=0,feature_idx=25]=3.0 : cat_features must be integer or string, real number values and NaN values should be converted to string.\n",
      "  Attempting manual pipeline execution...\n",
      "  All pipeline approaches failed: Invalid type for cat_feature[non-default value idx=0,feature_idx=25]=3.0 : cat_features must be integer or string, real number values and NaN values should be converted to string.\n",
      "  Trying direct model prediction for Pipeline...\n",
      "  Direct predict_proba failed: Invalid type for cat_feature[non-default value idx=0,feature_idx=25]=3.0 : cat_features must be integer or string, real number values and NaN values should be converted to string.\n",
      "  Skipping CatBoost - cannot get probabilities: Could not get probability predictions from Pipeline using any method\n",
      "\n",
      "Evaluating Stacking...\n",
      "  Detected stacking model as dictionary, using custom prediction logic\n",
      "  Stacking model dictionary doesn't have expected structure\n"
     ]
    },
    {
     "data": {
      "application/vnd.microsoft.datawrangler.viewer.v0+json": {
       "columns": [
        {
         "name": "index",
         "rawType": "object",
         "type": "string"
        },
        {
         "name": "roc_auc",
         "rawType": "float64",
         "type": "float"
        },
        {
         "name": "pr_auc",
         "rawType": "float64",
         "type": "float"
        },
        {
         "name": "precision",
         "rawType": "float64",
         "type": "float"
        },
        {
         "name": "recall",
         "rawType": "float64",
         "type": "float"
        },
        {
         "name": "f1",
         "rawType": "float64",
         "type": "float"
        }
       ],
       "ref": "7b78abb1-a330-4011-9d6b-6c337097dd1e",
       "rows": [
        [
         "XGBoost",
         "0.8458330104110156",
         "0.6583224745316206",
         "0.6853932584269663",
         "0.4893048128342246",
         "0.5709828393135725"
        ],
        [
         "RandomForest",
         "0.8372768606783952",
         "0.6511160471963469",
         "0.5528455284552846",
         "0.7272727272727273",
         "0.628175519630485"
        ],
        [
         "LogisticRegression",
         "0.687258777028598",
         "0.4213639921374398",
         "0.3275388838060384",
         "0.9572192513368984",
         "0.48807089297886846"
        ],
        [
         "DecisionTree",
         "0.6087434446769485",
         "0.331810621451629",
         "0.4117647058823529",
         "0.44919786096256686",
         "0.4296675191815857"
        ]
       ],
       "shape": {
        "columns": 5,
        "rows": 4
       }
      },
      "text/html": [
       "<div>\n",
       "<style scoped>\n",
       "    .dataframe tbody tr th:only-of-type {\n",
       "        vertical-align: middle;\n",
       "    }\n",
       "\n",
       "    .dataframe tbody tr th {\n",
       "        vertical-align: top;\n",
       "    }\n",
       "\n",
       "    .dataframe thead th {\n",
       "        text-align: right;\n",
       "    }\n",
       "</style>\n",
       "<table border=\"1\" class=\"dataframe\">\n",
       "  <thead>\n",
       "    <tr style=\"text-align: right;\">\n",
       "      <th></th>\n",
       "      <th>roc_auc</th>\n",
       "      <th>pr_auc</th>\n",
       "      <th>precision</th>\n",
       "      <th>recall</th>\n",
       "      <th>f1</th>\n",
       "    </tr>\n",
       "  </thead>\n",
       "  <tbody>\n",
       "    <tr>\n",
       "      <th>XGBoost</th>\n",
       "      <td>0.845833</td>\n",
       "      <td>0.658322</td>\n",
       "      <td>0.685393</td>\n",
       "      <td>0.489305</td>\n",
       "      <td>0.570983</td>\n",
       "    </tr>\n",
       "    <tr>\n",
       "      <th>RandomForest</th>\n",
       "      <td>0.837277</td>\n",
       "      <td>0.651116</td>\n",
       "      <td>0.552846</td>\n",
       "      <td>0.727273</td>\n",
       "      <td>0.628176</td>\n",
       "    </tr>\n",
       "    <tr>\n",
       "      <th>LogisticRegression</th>\n",
       "      <td>0.687259</td>\n",
       "      <td>0.421364</td>\n",
       "      <td>0.327539</td>\n",
       "      <td>0.957219</td>\n",
       "      <td>0.488071</td>\n",
       "    </tr>\n",
       "    <tr>\n",
       "      <th>DecisionTree</th>\n",
       "      <td>0.608743</td>\n",
       "      <td>0.331811</td>\n",
       "      <td>0.411765</td>\n",
       "      <td>0.449198</td>\n",
       "      <td>0.429668</td>\n",
       "    </tr>\n",
       "  </tbody>\n",
       "</table>\n",
       "</div>"
      ],
      "text/plain": [
       "                     roc_auc    pr_auc  precision    recall        f1\n",
       "XGBoost             0.845833  0.658322   0.685393  0.489305  0.570983\n",
       "RandomForest        0.837277  0.651116   0.552846  0.727273  0.628176\n",
       "LogisticRegression  0.687259  0.421364   0.327539  0.957219  0.488071\n",
       "DecisionTree        0.608743  0.331811   0.411765  0.449198  0.429668"
      ]
     },
     "metadata": {},
     "output_type": "display_data"
    }
   ],
   "source": [
    "results = {}\n",
    "for name, model in models.items():\n",
    "    print(f\"\\nEvaluating {name}...\")\n",
    "    \n",
    "    try:\n",
    "        # Special handling for stacking model if it's a dictionary\n",
    "        if isinstance(model, dict) and name == 'Stacking':\n",
    "            print(\"  Detected stacking model as dictionary, using custom prediction logic\")\n",
    "            # This assumes the stacking model dictionary contains base models and meta-estimator\n",
    "            if 'meta_estimator' in model and 'base_models' in model:\n",
    "                # First get base model predictions\n",
    "                base_preds = []\n",
    "                for base_name, base_model in model['base_models'].items():\n",
    "                    try:\n",
    "                        base_pred = safe_predict_proba(base_model, X_test)\n",
    "                        base_preds.append(base_pred)\n",
    "                    except Exception as e:\n",
    "                        print(f\"  Base model {base_name} failed: {e}\")\n",
    "                \n",
    "                if base_preds:\n",
    "                    # Convert base predictions to array for meta-estimator\n",
    "                    meta_features = np.column_stack(base_preds)\n",
    "                    # Get final predictions using meta-estimator\n",
    "                    try:\n",
    "                        meta_estimator = model['meta_estimator']\n",
    "                        probs = safe_predict_proba(meta_estimator, meta_features)\n",
    "                    except Exception as e:\n",
    "                        print(f\"  Meta-estimator failed: {e}\")\n",
    "                        continue\n",
    "                else:\n",
    "                    print(\"  No base models produced valid predictions\")\n",
    "                    continue\n",
    "            else:\n",
    "                print(\"  Stacking model dictionary doesn't have expected structure\")\n",
    "                continue\n",
    "        else:\n",
    "            # Normal case for standard models\n",
    "            probs = safe_predict_proba(model, X_test)\n",
    "        \n",
    "        # Continue with evaluation using the probabilities\n",
    "        preds = (probs >= 0.5).astype(int)\n",
    "        roc = roc_auc_score(y_test, probs)\n",
    "        pr = average_precision_score(y_test, probs)\n",
    "        prec = precision_score(y_test, preds)\n",
    "        rec = recall_score(y_test, preds)\n",
    "        f1 = f1_score(y_test, preds)\n",
    "        cm = confusion_matrix(y_test, preds)\n",
    "        results[name] = {\n",
    "            'roc_auc': roc, 'pr_auc': pr, 'precision': prec, 'recall': rec, 'f1': f1, 'confusion_matrix': cm,\n",
    "            'probs': probs\n",
    "        }\n",
    "        print(f\"  Successfully evaluated {name}! ROC AUC: {roc:.4f}, F1: {f1:.4f}\")\n",
    "    except Exception as e:\n",
    "        print(f\"  Skipping {name} - cannot get probabilities: {e}\")\n",
    "        continue\n",
    "\n",
    "# Show summary table\n",
    "if results:  # Check if any models were successfully evaluated\n",
    "    summary = pd.DataFrame({k:{'roc_auc':v['roc_auc'],'pr_auc':v['pr_auc'],'precision':v['precision'],'recall':v['recall'],'f1':v['f1']} for k,v in results.items()}).T\n",
    "    display(summary.sort_values('roc_auc', ascending=False))\n",
    "else:\n",
    "    print(\"No models were successfully evaluated. Check that your models have predict_proba or decision_function methods.\")\n",
    "\n",
    "# Detailed error handling for troubleshooting\n",
    "if not results:\n",
    "    print(\"\\nTroubleshooting tips:\")\n",
    "    print(\"1. Ensure the X_test data has all required columns with correct datatypes\")\n",
    "    print(\"2. Check that the models were saved and loaded correctly\")\n",
    "    print(\"3. Review the preprocessing in the previous notebook\")\n",
    "    print(\"\\nX_test columns:\")\n",
    "    print(X_test.columns.tolist())"
   ]
  },
  {
   "cell_type": "code",
   "execution_count": 73,
   "id": "bd06b237",
   "metadata": {},
   "outputs": [
    {
     "name": "stdout",
     "output_type": "stream",
     "text": [
      "Creating missing engineered features...\n",
      "Feature engineering complete.\n"
     ]
    }
   ],
   "source": [
    "# Create the missing engineered features that the models expect\n",
    "print(\"Creating missing engineered features...\")\n",
    "\n",
    "# 1. tenure_category\n",
    "if 'tenure' in X_test.columns and 'tenure_category' not in X_test.columns:\n",
    "    # Create tenure category based on common ranges\n",
    "    bins = [0, 12, 24, 36, 60, float('inf')]\n",
    "    labels = ['0-12 mo', '13-24 mo', '25-36 mo', '37-60 mo', '60+ mo']\n",
    "    X_test['tenure_category'] = pd.cut(X_test['tenure'], bins=bins, labels=labels, right=False)\n",
    "    print(\"  Created 'tenure_category'\")\n",
    "\n",
    "# 2. contract_tenure_interaction\n",
    "if 'Contract' in X_test.columns and 'tenure' in X_test.columns and 'contract_tenure_interaction' not in X_test.columns:\n",
    "    # Create interaction feature between contract type and tenure\n",
    "    contract_map = {'Month-to-month': 1, 'One year': 12, 'Two year': 24}\n",
    "    X_test['contract_months'] = X_test['Contract'].map(contract_map)\n",
    "    X_test['contract_tenure_interaction'] = X_test['tenure'] / X_test['contract_months']\n",
    "    # Remove temporary column\n",
    "    X_test = X_test.drop(columns=['contract_months'])\n",
    "    print(\"  Created 'contract_tenure_interaction'\")\n",
    "\n",
    "# 3. service_adoption_score\n",
    "if 'service_adoption_score' not in X_test.columns:\n",
    "    # Create service adoption score - count of services the customer has\n",
    "    service_columns = [\n",
    "        'PhoneService', 'MultipleLines', 'InternetService', 'OnlineSecurity',\n",
    "        'OnlineBackup', 'DeviceProtection', 'TechSupport', 'StreamingTV', 'StreamingMovies'\n",
    "    ]\n",
    "    # Ensure all service columns exist\n",
    "    available_service_columns = [col for col in service_columns if col in X_test.columns]\n",
    "    \n",
    "    # Convert 'Yes' to 1 for services\n",
    "    service_data = X_test[available_service_columns].copy()\n",
    "    for col in available_service_columns:\n",
    "        if X_test[col].dtype == 'object':\n",
    "            # Convert 'Yes' to 1, 'No' to 0, exclude 'No phone service'/'No internet service'\n",
    "            service_data[col] = (X_test[col] == 'Yes').astype(int)\n",
    "    \n",
    "    # Sum across rows to get service count\n",
    "    X_test['service_adoption_score'] = service_data.sum(axis=1)\n",
    "    print(f\"  Created 'service_adoption_score' using {len(available_service_columns)} service columns\")\n",
    "\n",
    "# 4. avg_charge_per_service\n",
    "if 'MonthlyCharges' in X_test.columns and 'service_adoption_score' in X_test.columns and 'avg_charge_per_service' not in X_test.columns:\n",
    "    # Calculate average charge per service\n",
    "    X_test['avg_charge_per_service'] = X_test['MonthlyCharges'] / (X_test['service_adoption_score'] + 1)  # Add 1 to avoid division by zero\n",
    "    print(\"  Created 'avg_charge_per_service'\")\n",
    "\n",
    "print(\"Feature engineering complete.\")"
   ]
  },
  {
   "cell_type": "code",
   "execution_count": null,
   "id": "7a430a03",
   "metadata": {},
   "outputs": [
    {
     "data": {
      "image/png": "[encoded data removed]",
      "text/plain": [
       "<Figure size 2000x500 with 8 Axes>"
      ]
     },
     "metadata": {},
     "output_type": "display_data"
    }
   ],
   "source": [
    "    # Plot confusion matrices\n",
    "    n_models = len(results)\n",
    "    fig, axes = plt.subplots(1, n_models, figsize=(n_models*5, 5))\n",
    "    if n_models == 1:\n",
    "        axes = [axes]\n",
    "        \n",
    "    for i, (name, res) in enumerate(results.items()):\n",
    "        cm = res['confusion_matrix']\n",
    "        sns.heatmap(cm, annot=True, fmt='d', cmap='Blues', ax=axes[i])\n",
    "        axes[i].set_title(f'{name} Confusion Matrix')\n",
    "        axes[i].set_xlabel('Predicted')\n",
    "        axes[i].set_ylabel('Actual')\n",
    "    \n",
    "    plt.tight_layout()\n",
    "    plt.show()"
   ]
  },
  {
   "cell_type": "markdown",
   "id": "42f1c01c",
   "metadata": {},
   "source": [
    "\n",
    "#### 3.1 Why Accuracy Fails (demonstration)\n",
    "- example: if churn is ~26% (as earlier), a dumb model predicting \"No churn\" always has high accuracy.\n"
   ]
  },
  {
   "cell_type": "code",
   "execution_count": 75,
   "id": "916a9a50",
   "metadata": {},
   "outputs": [
    {
     "name": "stdout",
     "output_type": "stream",
     "text": [
      "Majority classifier -> accuracy: 0.735, precision: 0.000, recall: 0.000, f1: 0.000\n",
      "Conclusion: Accuracy is high but recall = 0 (misses all churners).\n"
     ]
    }
   ],
   "source": [
    "# accuracy vs other metrics demo\n",
    "\n",
    "majority_pred = np.zeros_like(y_test)  # predict No (0) always\n",
    "acc = accuracy_score(y_test, majority_pred)\n",
    "prec = precision_score(y_test, majority_pred, zero_division=0)\n",
    "rec = recall_score(y_test, majority_pred)\n",
    "f1 = f1_score(y_test, majority_pred)\n",
    "\n",
    "print(f\"Majority classifier -> accuracy: {acc:.3f}, precision: {prec:.3f}, recall: {rec:.3f}, f1: {f1:.3f}\")\n",
    "print(\"Conclusion: Accuracy is high but recall = 0 (misses all churners).\")\n"
   ]
  },
  {
   "cell_type": "markdown",
   "id": "49813b6a",
   "metadata": {},
   "source": [
    "#### 3.2 Threshold Sweep, Precision-Recall & ROC curves\n",
    "- Compute ROC curve and PR curve for each model and plot\n"
   ]
  },
  {
   "cell_type": "code",
   "execution_count": 79,
   "id": "d75e4e14",
   "metadata": {},
   "outputs": [
    {
     "data": {
      "image/png": "[encoded data removed]",
      "text/plain": [
       "<Figure size 2000x800 with 2 Axes>"
      ]
     },
     "metadata": {},
     "output_type": "display_data"
    }
   ],
   "source": [
    "if results:\n",
    "    fig, axes = plt.subplots(1, 2, figsize=(20, 8))\n",
    "    \n",
    "    # ROC Curve\n",
    "    for name, res in results.items():\n",
    "        fpr, tpr, _ = roc_curve(y_test, res['probs'])\n",
    "        axes[0].plot(fpr, tpr, label=f\"{name} (AUC = {res['roc_auc']:.3f})\")\n",
    "    \n",
    "    # Add chance line\n",
    "    axes[0].plot([0, 1], [0, 1], 'k--', label='Chance')\n",
    "    axes[0].set_xlim([0.0, 1.0])\n",
    "    axes[0].set_ylim([0.0, 1.05])\n",
    "    axes[0].set_xlabel('False Positive Rate')\n",
    "    axes[0].set_ylabel('True Positive Rate')\n",
    "    axes[0].set_title('ROC Curve')\n",
    "    axes[0].legend(loc=\"lower right\")\n",
    "    axes[0].grid(True, alpha=0.3)\n",
    "    \n",
    "    # PR Curve\n",
    "    for name, res in results.items():\n",
    "        precision, recall, _ = precision_recall_curve(y_test, res['probs'])\n",
    "        axes[1].plot(recall, precision, label=f\"{name} (AP = {res['pr_auc']:.3f})\")\n",
    "    \n",
    "    # Add baseline\n",
    "    baseline = sum(y_test) / len(y_test)  # Proportion of positives\n",
    "    axes[1].plot([0, 1], [baseline, baseline], 'k--', label=f'Baseline ({baseline:.3f})')\n",
    "    axes[1].set_xlim([0.0, 1.0])\n",
    "    axes[1].set_ylim([0.0, 1.05])\n",
    "    axes[1].set_xlabel('Recall')\n",
    "    axes[1].set_ylabel('Precision')\n",
    "    axes[1].set_title('Precision-Recall Curve')\n",
    "    axes[1].legend(loc=\"upper right\")\n",
    "    axes[1].grid(True, alpha=0.3)\n",
    "    \n",
    "    plt.tight_layout()\n",
    "    plt.show()"
   ]
  },
  {
   "cell_type": "markdown",
   "id": "0878c0bf",
   "metadata": {},
   "source": [
    "##### 3.2.1 Threshold optimization examples:\n",
    "- maximize F1\n",
    "- choose threshold to ensure minimum precision (e.g., >= 0.5)"
   ]
  },
  {
   "cell_type": "code",
   "execution_count": 81,
   "id": "f96f5767",
   "metadata": {},
   "outputs": [
    {
     "data": {
      "application/vnd.microsoft.datawrangler.viewer.v0+json": {
       "columns": [
        {
         "name": "index",
         "rawType": "object",
         "type": "string"
        },
        {
         "name": "best_f1",
         "rawType": "float64",
         "type": "float"
        },
        {
         "name": "best_thresh",
         "rawType": "float64",
         "type": "float"
        },
        {
         "name": "best_f1_precision",
         "rawType": "float64",
         "type": "float"
        },
        {
         "name": "best_f1_recall",
         "rawType": "float64",
         "type": "float"
        },
        {
         "name": "thr_prec50",
         "rawType": "float64",
         "type": "float"
        },
        {
         "name": "prec50_recall",
         "rawType": "float64",
         "type": "float"
        },
        {
         "name": "prec50_precision",
         "rawType": "float64",
         "type": "float"
        },
        {
         "name": "prec50_recall_metric",
         "rawType": "float64",
         "type": "float"
        },
        {
         "name": "prec50_f1_metric",
         "rawType": "float64",
         "type": "float"
        }
       ],
       "ref": "80c122d9-0391-4542-ae19-383fd1410dae",
       "rows": [
        [
         "LogisticRegression",
         "0.5004048578773439",
         "0.7904227886683771",
         "0.35846867749419953",
         "0.8262032085561497",
         "0.999272491580046",
         "0.0",
         "1.0",
         "0.00267379679144385",
         "0.005333333333333333"
        ],
        [
         "DecisionTree",
         "0.4296675186825309",
         "0.4799397031539889",
         "0.4092009685230024",
         "0.45187165775401067",
         "1.0",
         "0.0",
         "0.4123456790123457",
         "0.446524064171123",
         "0.4287548138639281"
        ],
        [
         "RandomForest",
         "0.6363636358669233",
         "0.5374335012686305",
         "0.5873015873015873",
         "0.6925133689839572",
         "0.816786708159985",
         "0.0",
         "1.0",
         "0.00267379679144385",
         "0.005333333333333333"
        ],
        [
         "XGBoost",
         "0.6380638058963234",
         "0.2893172800540924",
         "0.5410447761194029",
         "0.7754010695187166",
         "0.8940755128860474",
         "0.0",
         "1.0",
         "0.00267379679144385",
         "0.005333333333333333"
        ]
       ],
       "shape": {
        "columns": 9,
        "rows": 4
       }
      },
      "text/html": [
       "<div>\n",
       "<style scoped>\n",
       "    .dataframe tbody tr th:only-of-type {\n",
       "        vertical-align: middle;\n",
       "    }\n",
       "\n",
       "    .dataframe tbody tr th {\n",
       "        vertical-align: top;\n",
       "    }\n",
       "\n",
       "    .dataframe thead th {\n",
       "        text-align: right;\n",
       "    }\n",
       "</style>\n",
       "<table border=\"1\" class=\"dataframe\">\n",
       "  <thead>\n",
       "    <tr style=\"text-align: right;\">\n",
       "      <th></th>\n",
       "      <th>best_f1</th>\n",
       "      <th>best_thresh</th>\n",
       "      <th>best_f1_precision</th>\n",
       "      <th>best_f1_recall</th>\n",
       "      <th>thr_prec50</th>\n",
       "      <th>prec50_recall</th>\n",
       "      <th>prec50_precision</th>\n",
       "      <th>prec50_recall_metric</th>\n",
       "      <th>prec50_f1_metric</th>\n",
       "    </tr>\n",
       "  </thead>\n",
       "  <tbody>\n",
       "    <tr>\n",
       "      <th>LogisticRegression</th>\n",
       "      <td>0.500405</td>\n",
       "      <td>0.790423</td>\n",
       "      <td>0.358469</td>\n",
       "      <td>0.826203</td>\n",
       "      <td>0.999272</td>\n",
       "      <td>0.0</td>\n",
       "      <td>1.000000</td>\n",
       "      <td>0.002674</td>\n",
       "      <td>0.005333</td>\n",
       "    </tr>\n",
       "    <tr>\n",
       "      <th>DecisionTree</th>\n",
       "      <td>0.429668</td>\n",
       "      <td>0.479940</td>\n",
       "      <td>0.409201</td>\n",
       "      <td>0.451872</td>\n",
       "      <td>1.000000</td>\n",
       "      <td>0.0</td>\n",
       "      <td>0.412346</td>\n",
       "      <td>0.446524</td>\n",
       "      <td>0.428755</td>\n",
       "    </tr>\n",
       "    <tr>\n",
       "      <th>RandomForest</th>\n",
       "      <td>0.636364</td>\n",
       "      <td>0.537434</td>\n",
       "      <td>0.587302</td>\n",
       "      <td>0.692513</td>\n",
       "      <td>0.816787</td>\n",
       "      <td>0.0</td>\n",
       "      <td>1.000000</td>\n",
       "      <td>0.002674</td>\n",
       "      <td>0.005333</td>\n",
       "    </tr>\n",
       "    <tr>\n",
       "      <th>XGBoost</th>\n",
       "      <td>0.638064</td>\n",
       "      <td>0.289317</td>\n",
       "      <td>0.541045</td>\n",
       "      <td>0.775401</td>\n",
       "      <td>0.894076</td>\n",
       "      <td>0.0</td>\n",
       "      <td>1.000000</td>\n",
       "      <td>0.002674</td>\n",
       "      <td>0.005333</td>\n",
       "    </tr>\n",
       "  </tbody>\n",
       "</table>\n",
       "</div>"
      ],
      "text/plain": [
       "                     best_f1  best_thresh  best_f1_precision  best_f1_recall  \\\n",
       "LogisticRegression  0.500405     0.790423           0.358469        0.826203   \n",
       "DecisionTree        0.429668     0.479940           0.409201        0.451872   \n",
       "RandomForest        0.636364     0.537434           0.587302        0.692513   \n",
       "XGBoost             0.638064     0.289317           0.541045        0.775401   \n",
       "\n",
       "                    thr_prec50  prec50_recall  prec50_precision  \\\n",
       "LogisticRegression    0.999272            0.0          1.000000   \n",
       "DecisionTree          1.000000            0.0          0.412346   \n",
       "RandomForest          0.816787            0.0          1.000000   \n",
       "XGBoost               0.894076            0.0          1.000000   \n",
       "\n",
       "                    prec50_recall_metric  prec50_f1_metric  \n",
       "LogisticRegression              0.002674          0.005333  \n",
       "DecisionTree                    0.446524          0.428755  \n",
       "RandomForest                    0.002674          0.005333  \n",
       "XGBoost                         0.002674          0.005333  "
      ]
     },
     "execution_count": 81,
     "metadata": {},
     "output_type": "execute_result"
    }
   ],
   "source": [
    "thresh_summary = {}\n",
    "\n",
    "for name, r in results.items():\n",
    "    precision, recall, thresholds = precision_recall_curve(y_test, r['probs'])\n",
    "    # thresholds.shape == (len(precision)-1,)\n",
    "    # precision[1:], recall[1:] correspond to thresholds\n",
    "    prec_at_thresh = precision[1:]\n",
    "    rec_at_thresh = recall[1:]\n",
    "    \n",
    "    # compute F1 at the thresholds\n",
    "    f1_at_thresh = 2 * prec_at_thresh * rec_at_thresh / (prec_at_thresh + rec_at_thresh + 1e-9)\n",
    "    \n",
    "    if len(f1_at_thresh) > 0:\n",
    "        best_idx = np.nanargmax(f1_at_thresh)\n",
    "        best_thresh = thresholds[best_idx]\n",
    "        best_f1 = f1_at_thresh[best_idx]\n",
    "    else:\n",
    "        # fallback\n",
    "        best_thresh = 0.5\n",
    "        best_f1 = np.nan\n",
    "    \n",
    "    # find threshold with precision >= 0.50 (largest recall among them)\n",
    "    idxs = np.where(prec_at_thresh >= 0.50)[0]\n",
    "    if len(idxs) > 0:\n",
    "        idx = idxs[-1]  # last index gives largest recall while precision >= 0.5\n",
    "        thr_prec50 = thresholds[idx]\n",
    "        prec50_recall = rec_at_thresh[idx]\n",
    "    else:\n",
    "        thr_prec50 = None\n",
    "        prec50_recall = None\n",
    "\n",
    "    # compute actual metrics at chosen thresholds\n",
    "    y_pred_best_f1 = (r['probs'] >= best_thresh).astype(int)\n",
    "    p_f1, r_f1, f1_f1, _ = precision_recall_fscore_support(y_test, y_pred_best_f1, average='binary', zero_division=0)\n",
    "\n",
    "    if thr_prec50 is not None:\n",
    "        y_pred_prec50 = (r['probs'] >= thr_prec50).astype(int)\n",
    "        p_50, r_50, f1_50, _ = precision_recall_fscore_support(y_test, y_pred_prec50, average='binary', zero_division=0)\n",
    "    else:\n",
    "        p_50 = r_50 = f1_50 = None\n",
    "\n",
    "    thresh_summary[name] = {\n",
    "        'best_f1': best_f1,\n",
    "        'best_thresh': best_thresh,\n",
    "        'best_f1_precision': p_f1,\n",
    "        'best_f1_recall': r_f1,\n",
    "        'thr_prec50': thr_prec50,\n",
    "        'prec50_recall': prec50_recall,\n",
    "        'prec50_precision': p_50,\n",
    "        'prec50_recall_metric': r_50,\n",
    "        'prec50_f1_metric': f1_50\n",
    "    }\n",
    "\n",
    "pd.DataFrame(thresh_summary).T"
   ]
  },
  {
   "cell_type": "markdown",
   "id": "945f5ebe",
   "metadata": {},
   "source": [
    "##### full classification reports + confusion matrices:"
   ]
  },
  {
   "cell_type": "code",
   "execution_count": 83,
   "id": "1da6e56c",
   "metadata": {},
   "outputs": [
    {
     "data": {
      "application/vnd.microsoft.datawrangler.viewer.v0+json": {
       "columns": [
        {
         "name": "index",
         "rawType": "int64",
         "type": "integer"
        },
        {
         "name": "model",
         "rawType": "object",
         "type": "string"
        },
        {
         "name": "threshold_label",
         "rawType": "object",
         "type": "string"
        },
        {
         "name": "threshold",
         "rawType": "float64",
         "type": "float"
        },
        {
         "name": "TP",
         "rawType": "int64",
         "type": "integer"
        },
        {
         "name": "FP",
         "rawType": "int64",
         "type": "integer"
        },
        {
         "name": "FN",
         "rawType": "int64",
         "type": "integer"
        },
        {
         "name": "TN",
         "rawType": "int64",
         "type": "integer"
        },
        {
         "name": "precision",
         "rawType": "float64",
         "type": "float"
        },
        {
         "name": "recall",
         "rawType": "float64",
         "type": "float"
        },
        {
         "name": "f1",
         "rawType": "float64",
         "type": "float"
        },
        {
         "name": "support_pos",
         "rawType": "int64",
         "type": "integer"
        }
       ],
       "ref": "d5c0f83e-a170-4d38-8067-c1b4eaf15a3a",
       "rows": [
        [
         "2",
         "DecisionTree",
         "best_thresh",
         "0.4799397031539889",
         "169",
         "244",
         "205",
         "791",
         "0.4092009685230024",
         "0.45187165775401067",
         "0.42947903430749684",
         "374"
        ],
        [
         "3",
         "DecisionTree",
         "thr_prec50",
         "1.0",
         "167",
         "238",
         "207",
         "797",
         "0.4123456790123457",
         "0.446524064171123",
         "0.4287548138639281",
         "374"
        ],
        [
         "0",
         "LogisticRegression",
         "best_thresh",
         "0.7904227886683771",
         "309",
         "553",
         "65",
         "482",
         "0.35846867749419953",
         "0.8262032085561497",
         "0.5",
         "374"
        ],
        [
         "1",
         "LogisticRegression",
         "thr_prec50",
         "0.999272491580046",
         "1",
         "0",
         "373",
         "1035",
         "1.0",
         "0.00267379679144385",
         "0.005333333333333333",
         "374"
        ],
        [
         "4",
         "RandomForest",
         "best_thresh",
         "0.5374335012686305",
         "259",
         "182",
         "115",
         "853",
         "0.5873015873015873",
         "0.6925133689839572",
         "0.6355828220858896",
         "374"
        ],
        [
         "5",
         "RandomForest",
         "thr_prec50",
         "0.816786708159985",
         "1",
         "0",
         "373",
         "1035",
         "1.0",
         "0.00267379679144385",
         "0.005333333333333333",
         "374"
        ],
        [
         "6",
         "XGBoost",
         "best_thresh",
         "0.2893172800540924",
         "290",
         "246",
         "84",
         "789",
         "0.5410447761194029",
         "0.7754010695187166",
         "0.6373626373626373",
         "374"
        ],
        [
         "7",
         "XGBoost",
         "thr_prec50",
         "0.8940755128860474",
         "1",
         "0",
         "373",
         "1035",
         "1.0",
         "0.00267379679144385",
         "0.005333333333333333",
         "374"
        ]
       ],
       "shape": {
        "columns": 11,
        "rows": 8
       }
      },
      "text/html": [
       "<div>\n",
       "<style scoped>\n",
       "    .dataframe tbody tr th:only-of-type {\n",
       "        vertical-align: middle;\n",
       "    }\n",
       "\n",
       "    .dataframe tbody tr th {\n",
       "        vertical-align: top;\n",
       "    }\n",
       "\n",
       "    .dataframe thead th {\n",
       "        text-align: right;\n",
       "    }\n",
       "</style>\n",
       "<table border=\"1\" class=\"dataframe\">\n",
       "  <thead>\n",
       "    <tr style=\"text-align: right;\">\n",
       "      <th></th>\n",
       "      <th>model</th>\n",
       "      <th>threshold_label</th>\n",
       "      <th>threshold</th>\n",
       "      <th>TP</th>\n",
       "      <th>FP</th>\n",
       "      <th>FN</th>\n",
       "      <th>TN</th>\n",
       "      <th>precision</th>\n",
       "      <th>recall</th>\n",
       "      <th>f1</th>\n",
       "      <th>support_pos</th>\n",
       "    </tr>\n",
       "  </thead>\n",
       "  <tbody>\n",
       "    <tr>\n",
       "      <th>2</th>\n",
       "      <td>DecisionTree</td>\n",
       "      <td>best_thresh</td>\n",
       "      <td>0.479940</td>\n",
       "      <td>169</td>\n",
       "      <td>244</td>\n",
       "      <td>205</td>\n",
       "      <td>791</td>\n",
       "      <td>0.409201</td>\n",
       "      <td>0.451872</td>\n",
       "      <td>0.429479</td>\n",
       "      <td>374</td>\n",
       "    </tr>\n",
       "    <tr>\n",
       "      <th>3</th>\n",
       "      <td>DecisionTree</td>\n",
       "      <td>thr_prec50</td>\n",
       "      <td>1.000000</td>\n",
       "      <td>167</td>\n",
       "      <td>238</td>\n",
       "      <td>207</td>\n",
       "      <td>797</td>\n",
       "      <td>0.412346</td>\n",
       "      <td>0.446524</td>\n",
       "      <td>0.428755</td>\n",
       "      <td>374</td>\n",
       "    </tr>\n",
       "    <tr>\n",
       "      <th>0</th>\n",
       "      <td>LogisticRegression</td>\n",
       "      <td>best_thresh</td>\n",
       "      <td>0.790423</td>\n",
       "      <td>309</td>\n",
       "      <td>553</td>\n",
       "      <td>65</td>\n",
       "      <td>482</td>\n",
       "      <td>0.358469</td>\n",
       "      <td>0.826203</td>\n",
       "      <td>0.500000</td>\n",
       "      <td>374</td>\n",
       "    </tr>\n",
       "    <tr>\n",
       "      <th>1</th>\n",
       "      <td>LogisticRegression</td>\n",
       "      <td>thr_prec50</td>\n",
       "      <td>0.999272</td>\n",
       "      <td>1</td>\n",
       "      <td>0</td>\n",
       "      <td>373</td>\n",
       "      <td>1035</td>\n",
       "      <td>1.000000</td>\n",
       "      <td>0.002674</td>\n",
       "      <td>0.005333</td>\n",
       "      <td>374</td>\n",
       "    </tr>\n",
       "    <tr>\n",
       "      <th>4</th>\n",
       "      <td>RandomForest</td>\n",
       "      <td>best_thresh</td>\n",
       "      <td>0.537434</td>\n",
       "      <td>259</td>\n",
       "      <td>182</td>\n",
       "      <td>115</td>\n",
       "      <td>853</td>\n",
       "      <td>0.587302</td>\n",
       "      <td>0.692513</td>\n",
       "      <td>0.635583</td>\n",
       "      <td>374</td>\n",
       "    </tr>\n",
       "    <tr>\n",
       "      <th>5</th>\n",
       "      <td>RandomForest</td>\n",
       "      <td>thr_prec50</td>\n",
       "      <td>0.816787</td>\n",
       "      <td>1</td>\n",
       "      <td>0</td>\n",
       "      <td>373</td>\n",
       "      <td>1035</td>\n",
       "      <td>1.000000</td>\n",
       "      <td>0.002674</td>\n",
       "      <td>0.005333</td>\n",
       "      <td>374</td>\n",
       "    </tr>\n",
       "    <tr>\n",
       "      <th>6</th>\n",
       "      <td>XGBoost</td>\n",
       "      <td>best_thresh</td>\n",
       "      <td>0.289317</td>\n",
       "      <td>290</td>\n",
       "      <td>246</td>\n",
       "      <td>84</td>\n",
       "      <td>789</td>\n",
       "      <td>0.541045</td>\n",
       "      <td>0.775401</td>\n",
       "      <td>0.637363</td>\n",
       "      <td>374</td>\n",
       "    </tr>\n",
       "    <tr>\n",
       "      <th>7</th>\n",
       "      <td>XGBoost</td>\n",
       "      <td>thr_prec50</td>\n",
       "      <td>0.894076</td>\n",
       "      <td>1</td>\n",
       "      <td>0</td>\n",
       "      <td>373</td>\n",
       "      <td>1035</td>\n",
       "      <td>1.000000</td>\n",
       "      <td>0.002674</td>\n",
       "      <td>0.005333</td>\n",
       "      <td>374</td>\n",
       "    </tr>\n",
       "  </tbody>\n",
       "</table>\n",
       "</div>"
      ],
      "text/plain": [
       "                model threshold_label  threshold   TP   FP   FN    TN  \\\n",
       "2        DecisionTree     best_thresh   0.479940  169  244  205   791   \n",
       "3        DecisionTree      thr_prec50   1.000000  167  238  207   797   \n",
       "0  LogisticRegression     best_thresh   0.790423  309  553   65   482   \n",
       "1  LogisticRegression      thr_prec50   0.999272    1    0  373  1035   \n",
       "4        RandomForest     best_thresh   0.537434  259  182  115   853   \n",
       "5        RandomForest      thr_prec50   0.816787    1    0  373  1035   \n",
       "6             XGBoost     best_thresh   0.289317  290  246   84   789   \n",
       "7             XGBoost      thr_prec50   0.894076    1    0  373  1035   \n",
       "\n",
       "   precision    recall        f1  support_pos  \n",
       "2   0.409201  0.451872  0.429479          374  \n",
       "3   0.412346  0.446524  0.428755          374  \n",
       "0   0.358469  0.826203  0.500000          374  \n",
       "1   1.000000  0.002674  0.005333          374  \n",
       "4   0.587302  0.692513  0.635583          374  \n",
       "5   1.000000  0.002674  0.005333          374  \n",
       "6   0.541045  0.775401  0.637363          374  \n",
       "7   1.000000  0.002674  0.005333          374  "
      ]
     },
     "metadata": {},
     "output_type": "display_data"
    },
    {
     "name": "stdout",
     "output_type": "stream",
     "text": [
      "\n",
      "=== LogisticRegression @ best_thresh = 0.7904 ===\n",
      "Confusion matrix (tn, fp, fn, tp): [482 553  65 309]\n",
      "              precision    recall  f1-score   support\n",
      "\n",
      "           0       0.88      0.47      0.61      1035\n",
      "           1       0.36      0.83      0.50       374\n",
      "\n",
      "    accuracy                           0.56      1409\n",
      "   macro avg       0.62      0.65      0.55      1409\n",
      "weighted avg       0.74      0.56      0.58      1409\n",
      "\n",
      "\n",
      "=== LogisticRegression @ thr_prec50 = 0.9993 ===\n",
      "Confusion matrix (tn, fp, fn, tp): [1035    0  373    1]\n",
      "              precision    recall  f1-score   support\n",
      "\n",
      "           0       0.74      1.00      0.85      1035\n",
      "           1       1.00      0.00      0.01       374\n",
      "\n",
      "    accuracy                           0.74      1409\n",
      "   macro avg       0.87      0.50      0.43      1409\n",
      "weighted avg       0.81      0.74      0.62      1409\n",
      "\n",
      "\n",
      "=== DecisionTree @ best_thresh = 0.4799 ===\n",
      "Confusion matrix (tn, fp, fn, tp): [791 244 205 169]\n",
      "              precision    recall  f1-score   support\n",
      "\n",
      "           0       0.79      0.76      0.78      1035\n",
      "           1       0.41      0.45      0.43       374\n",
      "\n",
      "    accuracy                           0.68      1409\n",
      "   macro avg       0.60      0.61      0.60      1409\n",
      "weighted avg       0.69      0.68      0.69      1409\n",
      "\n",
      "\n",
      "=== DecisionTree @ thr_prec50 = 1.0000 ===\n",
      "Confusion matrix (tn, fp, fn, tp): [797 238 207 167]\n",
      "              precision    recall  f1-score   support\n",
      "\n",
      "           0       0.79      0.77      0.78      1035\n",
      "           1       0.41      0.45      0.43       374\n",
      "\n",
      "    accuracy                           0.68      1409\n",
      "   macro avg       0.60      0.61      0.61      1409\n",
      "weighted avg       0.69      0.68      0.69      1409\n",
      "\n",
      "\n",
      "=== RandomForest @ best_thresh = 0.5374 ===\n",
      "Confusion matrix (tn, fp, fn, tp): [853 182 115 259]\n",
      "              precision    recall  f1-score   support\n",
      "\n",
      "           0       0.88      0.82      0.85      1035\n",
      "           1       0.59      0.69      0.64       374\n",
      "\n",
      "    accuracy                           0.79      1409\n",
      "   macro avg       0.73      0.76      0.74      1409\n",
      "weighted avg       0.80      0.79      0.79      1409\n",
      "\n",
      "\n",
      "=== RandomForest @ thr_prec50 = 0.8168 ===\n",
      "Confusion matrix (tn, fp, fn, tp): [1035    0  373    1]\n",
      "              precision    recall  f1-score   support\n",
      "\n",
      "           0       0.74      1.00      0.85      1035\n",
      "           1       1.00      0.00      0.01       374\n",
      "\n",
      "    accuracy                           0.74      1409\n",
      "   macro avg       0.87      0.50      0.43      1409\n",
      "weighted avg       0.81      0.74      0.62      1409\n",
      "\n",
      "\n",
      "=== XGBoost @ best_thresh = 0.2893 ===\n",
      "Confusion matrix (tn, fp, fn, tp): [789 246  84 290]\n",
      "              precision    recall  f1-score   support\n",
      "\n",
      "           0       0.90      0.76      0.83      1035\n",
      "           1       0.54      0.78      0.64       374\n",
      "\n",
      "    accuracy                           0.77      1409\n",
      "   macro avg       0.72      0.77      0.73      1409\n",
      "weighted avg       0.81      0.77      0.78      1409\n",
      "\n",
      "\n",
      "=== XGBoost @ thr_prec50 = 0.8941 ===\n",
      "Confusion matrix (tn, fp, fn, tp): [1035    0  373    1]\n",
      "              precision    recall  f1-score   support\n",
      "\n",
      "           0       0.74      1.00      0.85      1035\n",
      "           1       1.00      0.00      0.01       374\n",
      "\n",
      "    accuracy                           0.74      1409\n",
      "   macro avg       0.87      0.50      0.43      1409\n",
      "weighted avg       0.81      0.74      0.62      1409\n",
      "\n"
     ]
    }
   ],
   "source": [
    "rows = []\n",
    "\n",
    "# thresh_summary is the dict created earlier containing 'best_thresh' and 'thr_prec50' for each model\n",
    "for name, s in thresh_summary.items():\n",
    "    probs = results[name]['probs']\n",
    "    for thr_label in ['best_thresh', 'thr_prec50']:\n",
    "        thr = s.get(thr_label)\n",
    "        if thr is None:\n",
    "            # skip if no threshold found for the criterion\n",
    "            rows.append({\n",
    "                'model': name,\n",
    "                'threshold_label': thr_label,\n",
    "                'threshold': None,\n",
    "                'TP': None, 'FP': None, 'FN': None, 'TN': None,\n",
    "                'precision': None, 'recall': None, 'f1': None, 'support_pos': None\n",
    "            })\n",
    "            continue\n",
    "\n",
    "        y_pred = (probs >= thr).astype(int)\n",
    "        tn, fp, fn, tp = confusion_matrix(y_test, y_pred).ravel()\n",
    "        p, r, f1, sup = precision_recall_fscore_support(y_test, y_pred, average='binary', zero_division=0)\n",
    "        # store\n",
    "        rows.append({\n",
    "            'model': name,\n",
    "            'threshold_label': thr_label,\n",
    "            'threshold': thr,\n",
    "            'TP': int(tp), 'FP': int(fp), 'FN': int(fn), 'TN': int(tn),\n",
    "            'precision': float(p), 'recall': float(r), 'f1': float(f1), \n",
    "            'support_pos': sum(y_test) if sup is None else int(sup)  # Fix: handle None value for support\n",
    "        })\n",
    "\n",
    "summary_df = pd.DataFrame(rows)\n",
    "# better ordering\n",
    "summary_df = summary_df[['model','threshold_label','threshold','TP','FP','FN','TN','precision','recall','f1','support_pos']]\n",
    "display(summary_df.sort_values(['model','threshold_label']))\n",
    "\n",
    "for idx, r in summary_df.iterrows():\n",
    "    if pd.isna(r['threshold']):\n",
    "        print(f\"\\n{name} - {r['threshold_label']}: no threshold available\\n\")\n",
    "        continue\n",
    "    name = r['model']\n",
    "    thr = r['threshold']\n",
    "    y_pred = (results[name]['probs'] >= thr).astype(int)\n",
    "    print(f\"\\n=== {name} @ {r['threshold_label']} = {thr:.4f} ===\")\n",
    "    print(\"Confusion matrix (tn, fp, fn, tp):\", confusion_matrix(y_test, y_pred).ravel())\n",
    "    print(classification_report(y_test, y_pred, zero_division=0))"
   ]
  },
  {
   "cell_type": "markdown",
   "id": "0acde302",
   "metadata": {},
   "source": [
    "### 3.2.2 Cost-Sensitive Analysis (business-focused)\n",
    "define a simple cost model:\n",
    " - cost_fp: cost of contacting a non-churner (marketing cost per contact) -> default = $10\n",
    " - cost_fn: cost of letting a churner go (lost customer value)."
   ]
  },
  {
   "cell_type": "code",
   "execution_count": 84,
   "id": "543e8b70",
   "metadata": {},
   "outputs": [
    {
     "name": "stdout",
     "output_type": "stream",
     "text": [
      "Assumed cost_fp=$10.00, cost_fn=$388.57 (6 months avg revenue)\n"
     ]
    }
   ],
   "source": [
    "cost_fp = 10.0             \n",
    "months_lost = 6            \n",
    "\n",
    "# approximate loss per lost customer = avg MonthlyCharges * months_lost\n",
    "avg_monthly = X_test.join(y_test).iloc[:,0:].pipe(lambda d: d) \n",
    "# compute avg MonthlyCharges from original dataset\n",
    "try:\n",
    "    avg_monthly_charge = float(df['MonthlyCharges'].mean())\n",
    "except Exception:\n",
    "    avg_monthly_charge = 70.0\n",
    "cost_fn = avg_monthly_charge * months_lost\n",
    "\n",
    "print(f\"Assumed cost_fp=${cost_fp:.2f}, cost_fn=${cost_fn:.2f} ({months_lost} months avg revenue)\")"
   ]
  },
  {
   "cell_type": "code",
   "execution_count": 85,
   "id": "8f3be85f",
   "metadata": {},
   "outputs": [
    {
     "name": "stdout",
     "output_type": "stream",
     "text": [
      "No-action cost (miss all churners): 145325.23788158456\n"
     ]
    }
   ],
   "source": [
    "# function to compute expected cost for a model at a threshold\n",
    "def compute_business_cost(y_true, probs, threshold=0.5, cost_fp=10.0, cost_fn=420.0):\n",
    "    preds = (probs >= threshold).astype(int)\n",
    "    tn, fp, fn, tp = confusion_matrix(y_true, preds).ravel()\n",
    "    total_cost = fp * cost_fp + fn * cost_fn\n",
    "    return {'tn':tn,'fp':fp,'fn':fn,'tp':tp,'total_cost':total_cost}\n",
    "\n",
    "# baseline cost if we do nothing: treat all churners as missed (i.e., FN = total churners)\n",
    "no_action_cost = (y_test==1).sum() * cost_fn\n",
    "print(\"No-action cost (miss all churners):\", no_action_cost)"
   ]
  },
  {
   "cell_type": "code",
   "execution_count": 86,
   "id": "8865d70b",
   "metadata": {},
   "outputs": [
    {
     "data": {
      "application/vnd.microsoft.datawrangler.viewer.v0+json": {
       "columns": [
        {
         "name": "index",
         "rawType": "object",
         "type": "string"
        },
        {
         "name": "min_cost",
         "rawType": "float64",
         "type": "float"
        },
        {
         "name": "best_threshold",
         "rawType": "float64",
         "type": "float"
        },
        {
         "name": "savings_vs_no_action",
         "rawType": "float64",
         "type": "float"
        }
       ],
       "ref": "bc99fa44-371e-49be-8377-43edded820a4",
       "rows": [
        [
         "XGBoost",
         "8447.14030952719",
         "0.04",
         "136878.09757205736"
        ],
        [
         "LogisticRegression",
         "8760.0",
         "0.17",
         "136565.23788158456"
        ],
        [
         "RandomForest",
         "9078.570154763594",
         "0.16",
         "136246.66772682098"
        ],
        [
         "DecisionTree",
         "82096.88172653699",
         "0.01",
         "63228.35615504757"
        ]
       ],
       "shape": {
        "columns": 3,
        "rows": 4
       }
      },
      "text/html": [
       "<div>\n",
       "<style scoped>\n",
       "    .dataframe tbody tr th:only-of-type {\n",
       "        vertical-align: middle;\n",
       "    }\n",
       "\n",
       "    .dataframe tbody tr th {\n",
       "        vertical-align: top;\n",
       "    }\n",
       "\n",
       "    .dataframe thead th {\n",
       "        text-align: right;\n",
       "    }\n",
       "</style>\n",
       "<table border=\"1\" class=\"dataframe\">\n",
       "  <thead>\n",
       "    <tr style=\"text-align: right;\">\n",
       "      <th></th>\n",
       "      <th>min_cost</th>\n",
       "      <th>best_threshold</th>\n",
       "      <th>savings_vs_no_action</th>\n",
       "    </tr>\n",
       "  </thead>\n",
       "  <tbody>\n",
       "    <tr>\n",
       "      <th>XGBoost</th>\n",
       "      <td>8447.140310</td>\n",
       "      <td>0.04</td>\n",
       "      <td>136878.097572</td>\n",
       "    </tr>\n",
       "    <tr>\n",
       "      <th>LogisticRegression</th>\n",
       "      <td>8760.000000</td>\n",
       "      <td>0.17</td>\n",
       "      <td>136565.237882</td>\n",
       "    </tr>\n",
       "    <tr>\n",
       "      <th>RandomForest</th>\n",
       "      <td>9078.570155</td>\n",
       "      <td>0.16</td>\n",
       "      <td>136246.667727</td>\n",
       "    </tr>\n",
       "    <tr>\n",
       "      <th>DecisionTree</th>\n",
       "      <td>82096.881727</td>\n",
       "      <td>0.01</td>\n",
       "      <td>63228.356155</td>\n",
       "    </tr>\n",
       "  </tbody>\n",
       "</table>\n",
       "</div>"
      ],
      "text/plain": [
       "                        min_cost  best_threshold  savings_vs_no_action\n",
       "XGBoost              8447.140310            0.04         136878.097572\n",
       "LogisticRegression   8760.000000            0.17         136565.237882\n",
       "RandomForest         9078.570155            0.16         136246.667727\n",
       "DecisionTree        82096.881727            0.01          63228.356155"
      ]
     },
     "execution_count": 86,
     "metadata": {},
     "output_type": "execute_result"
    }
   ],
   "source": [
    "# compute business cost across thresholds and find optimal threshold that minimizes cost for each model\n",
    "cost_opt = {}\n",
    "th_grid = np.linspace(0.01,0.99,99)\n",
    "for name, r in results.items():\n",
    "    costs = []\n",
    "    for th in th_grid:\n",
    "        c = compute_business_cost(y_test, r['probs'], threshold=th, cost_fp=cost_fp, cost_fn=cost_fn)\n",
    "        costs.append(c['total_cost'])\n",
    "    costs = np.array(costs)\n",
    "    min_idx = costs.argmin()\n",
    "    cost_opt[name] = {'min_cost': costs[min_idx], 'best_threshold': th_grid[min_idx], 'savings_vs_no_action': no_action_cost - costs[min_idx]}\n",
    "    \n",
    "pd.DataFrame(cost_opt).T.sort_values('min_cost')"
   ]
  },
  {
   "cell_type": "markdown",
   "id": "aa3301f9",
   "metadata": {},
   "source": [
    "### 3.3 Model Comparison Framework: table + statistical tests\n",
    "- Build final performance matrix (use ROC AUC, PR AUC, precision, recall, f1)\n",
    "- Statistical tests: McNemar for paired classification differences at a selected threshold\n",
    "- Bootstrap for difference in ROC AUC\n"
   ]
  },
  {
   "cell_type": "markdown",
   "id": "a1cabb32",
   "metadata": {},
   "source": [
    "#### 3.3.1 Performance matrix (includes optimal-threshold-based metrics)"
   ]
  },
  {
   "cell_type": "code",
   "execution_count": 88,
   "id": "db98bb15",
   "metadata": {},
   "outputs": [
    {
     "data": {
      "application/vnd.microsoft.datawrangler.viewer.v0+json": {
       "columns": [
        {
         "name": "model",
         "rawType": "object",
         "type": "string"
        },
        {
         "name": "roc_auc",
         "rawType": "float64",
         "type": "float"
        },
        {
         "name": "pr_auc",
         "rawType": "float64",
         "type": "float"
        },
        {
         "name": "precision(0.5)",
         "rawType": "float64",
         "type": "float"
        },
        {
         "name": "recall(0.5)",
         "rawType": "float64",
         "type": "float"
        },
        {
         "name": "f1(0.5)",
         "rawType": "float64",
         "type": "float"
        },
        {
         "name": "best_thresh",
         "rawType": "float64",
         "type": "float"
        },
        {
         "name": "precision(best)",
         "rawType": "float64",
         "type": "float"
        },
        {
         "name": "recall(best)",
         "rawType": "float64",
         "type": "float"
        },
        {
         "name": "f1(best)",
         "rawType": "float64",
         "type": "float"
        },
        {
         "name": "min_cost",
         "rawType": "float64",
         "type": "float"
        },
        {
         "name": "savings_vs_no_action",
         "rawType": "float64",
         "type": "float"
        }
       ],
       "ref": "7a1a2a44-3bfb-42b7-b95a-141ddc348689",
       "rows": [
        [
         "XGBoost",
         "0.8458330104110156",
         "0.6583224745316206",
         "0.6853932584269663",
         "0.4893048128342246",
         "0.5709828393135725",
         "0.04",
         "0.32660228270412645",
         "0.9946524064171123",
         "0.4917382683410443",
         "8447.14030952719",
         "136878.09757205736"
        ],
        [
         "RandomForest",
         "0.8372768606783952",
         "0.6511160471963469",
         "0.5528455284552846",
         "0.7272727272727273",
         "0.628175519630485",
         "0.16",
         "0.3003220611916264",
         "0.9973262032085561",
         "0.46163366336633666",
         "9078.570154763594",
         "136246.66772682098"
        ],
        [
         "LogisticRegression",
         "0.687258777028598",
         "0.4213639921374398",
         "0.3275388838060384",
         "0.9572192513368984",
         "0.48807089297886846",
         "0.17",
         "0.2992",
         "1.0",
         "0.4605911330049261",
         "8760.0",
         "136565.23788158456"
        ],
        [
         "DecisionTree",
         "0.6087434446769485",
         "0.331810621451629",
         "0.4117647058823529",
         "0.44919786096256686",
         "0.4296675191815857",
         "0.01",
         "0.4092009685230024",
         "0.45187165775401067",
         "0.42947903430749684",
         "82096.88172653699",
         "63228.35615504757"
        ]
       ],
       "shape": {
        "columns": 11,
        "rows": 4
       }
      },
      "text/html": [
       "<div>\n",
       "<style scoped>\n",
       "    .dataframe tbody tr th:only-of-type {\n",
       "        vertical-align: middle;\n",
       "    }\n",
       "\n",
       "    .dataframe tbody tr th {\n",
       "        vertical-align: top;\n",
       "    }\n",
       "\n",
       "    .dataframe thead th {\n",
       "        text-align: right;\n",
       "    }\n",
       "</style>\n",
       "<table border=\"1\" class=\"dataframe\">\n",
       "  <thead>\n",
       "    <tr style=\"text-align: right;\">\n",
       "      <th></th>\n",
       "      <th>roc_auc</th>\n",
       "      <th>pr_auc</th>\n",
       "      <th>precision(0.5)</th>\n",
       "      <th>recall(0.5)</th>\n",
       "      <th>f1(0.5)</th>\n",
       "      <th>best_thresh</th>\n",
       "      <th>precision(best)</th>\n",
       "      <th>recall(best)</th>\n",
       "      <th>f1(best)</th>\n",
       "      <th>min_cost</th>\n",
       "      <th>savings_vs_no_action</th>\n",
       "    </tr>\n",
       "    <tr>\n",
       "      <th>model</th>\n",
       "      <th></th>\n",
       "      <th></th>\n",
       "      <th></th>\n",
       "      <th></th>\n",
       "      <th></th>\n",
       "      <th></th>\n",
       "      <th></th>\n",
       "      <th></th>\n",
       "      <th></th>\n",
       "      <th></th>\n",
       "      <th></th>\n",
       "    </tr>\n",
       "  </thead>\n",
       "  <tbody>\n",
       "    <tr>\n",
       "      <th>XGBoost</th>\n",
       "      <td>0.845833</td>\n",
       "      <td>0.658322</td>\n",
       "      <td>0.685393</td>\n",
       "      <td>0.489305</td>\n",
       "      <td>0.570983</td>\n",
       "      <td>0.04</td>\n",
       "      <td>0.326602</td>\n",
       "      <td>0.994652</td>\n",
       "      <td>0.491738</td>\n",
       "      <td>8447.140310</td>\n",
       "      <td>136878.097572</td>\n",
       "    </tr>\n",
       "    <tr>\n",
       "      <th>RandomForest</th>\n",
       "      <td>0.837277</td>\n",
       "      <td>0.651116</td>\n",
       "      <td>0.552846</td>\n",
       "      <td>0.727273</td>\n",
       "      <td>0.628176</td>\n",
       "      <td>0.16</td>\n",
       "      <td>0.300322</td>\n",
       "      <td>0.997326</td>\n",
       "      <td>0.461634</td>\n",
       "      <td>9078.570155</td>\n",
       "      <td>136246.667727</td>\n",
       "    </tr>\n",
       "    <tr>\n",
       "      <th>LogisticRegression</th>\n",
       "      <td>0.687259</td>\n",
       "      <td>0.421364</td>\n",
       "      <td>0.327539</td>\n",
       "      <td>0.957219</td>\n",
       "      <td>0.488071</td>\n",
       "      <td>0.17</td>\n",
       "      <td>0.299200</td>\n",
       "      <td>1.000000</td>\n",
       "      <td>0.460591</td>\n",
       "      <td>8760.000000</td>\n",
       "      <td>136565.237882</td>\n",
       "    </tr>\n",
       "    <tr>\n",
       "      <th>DecisionTree</th>\n",
       "      <td>0.608743</td>\n",
       "      <td>0.331811</td>\n",
       "      <td>0.411765</td>\n",
       "      <td>0.449198</td>\n",
       "      <td>0.429668</td>\n",
       "      <td>0.01</td>\n",
       "      <td>0.409201</td>\n",
       "      <td>0.451872</td>\n",
       "      <td>0.429479</td>\n",
       "      <td>82096.881727</td>\n",
       "      <td>63228.356155</td>\n",
       "    </tr>\n",
       "  </tbody>\n",
       "</table>\n",
       "</div>"
      ],
      "text/plain": [
       "                     roc_auc    pr_auc  precision(0.5)  recall(0.5)   f1(0.5)  \\\n",
       "model                                                                           \n",
       "XGBoost             0.845833  0.658322        0.685393     0.489305  0.570983   \n",
       "RandomForest        0.837277  0.651116        0.552846     0.727273  0.628176   \n",
       "LogisticRegression  0.687259  0.421364        0.327539     0.957219  0.488071   \n",
       "DecisionTree        0.608743  0.331811        0.411765     0.449198  0.429668   \n",
       "\n",
       "                    best_thresh  precision(best)  recall(best)  f1(best)  \\\n",
       "model                                                                      \n",
       "XGBoost                    0.04         0.326602      0.994652  0.491738   \n",
       "RandomForest               0.16         0.300322      0.997326  0.461634   \n",
       "LogisticRegression         0.17         0.299200      1.000000  0.460591   \n",
       "DecisionTree               0.01         0.409201      0.451872  0.429479   \n",
       "\n",
       "                        min_cost  savings_vs_no_action  \n",
       "model                                                   \n",
       "XGBoost              8447.140310         136878.097572  \n",
       "RandomForest         9078.570155         136246.667727  \n",
       "LogisticRegression   8760.000000         136565.237882  \n",
       "DecisionTree        82096.881727          63228.356155  "
      ]
     },
     "metadata": {},
     "output_type": "display_data"
    }
   ],
   "source": [
    "perf_rows = []\n",
    "for name, r in results.items():\n",
    "    # default threshold metrics\n",
    "    probs = r['probs']\n",
    "    default_preds = (probs >= 0.5).astype(int)\n",
    "    cm = confusion_matrix(y_test, default_preds)\n",
    "    row = {\n",
    "        'model': name,\n",
    "        'roc_auc': r['roc_auc'],\n",
    "        'pr_auc': r['pr_auc'],\n",
    "        'precision(0.5)': precision_score(y_test, default_preds, zero_division=0),\n",
    "        'recall(0.5)': recall_score(y_test, default_preds),\n",
    "        'f1(0.5)': f1_score(y_test, default_preds),\n",
    "    }\n",
    "    # add cost-optimized threshold metrics\n",
    "    best_th = cost_opt[name]['best_threshold']\n",
    "    best_preds = (probs >= best_th).astype(int)\n",
    "    row.update({\n",
    "        'best_thresh': best_th,\n",
    "        'precision(best)': precision_score(y_test, best_preds, zero_division=0),\n",
    "        'recall(best)': recall_score(y_test, best_preds),\n",
    "        'f1(best)': f1_score(y_test, best_preds),\n",
    "        'min_cost': cost_opt[name]['min_cost'],\n",
    "        'savings_vs_no_action': cost_opt[name]['savings_vs_no_action']\n",
    "    })\n",
    "    perf_rows.append(row)\n",
    "\n",
    "perf_df = pd.DataFrame(perf_rows).set_index('model').sort_values('roc_auc', ascending=False)\n",
    "display(perf_df)"
   ]
  },
  {
   "cell_type": "markdown",
   "id": "12755f7a",
   "metadata": {},
   "source": [
    "#### 3.3.2 McNemar's test for pairwise model comparisons (at chosen threshold)"
   ]
  },
  {
   "cell_type": "code",
   "execution_count": 91,
   "id": "ca21e60c",
   "metadata": {},
   "outputs": [
    {
     "data": {
      "application/vnd.microsoft.datawrangler.viewer.v0+json": {
       "columns": [
        {
         "name": "index",
         "rawType": "object",
         "type": "string"
        },
        {
         "name": "b",
         "rawType": "float64",
         "type": "float"
        },
        {
         "name": "c",
         "rawType": "float64",
         "type": "float"
        },
        {
         "name": "stat",
         "rawType": "float64",
         "type": "float"
        },
        {
         "name": "pvalue",
         "rawType": "float64",
         "type": "float"
        }
       ],
       "ref": "f2861d9d-eb86-423c-8507-be4e42b12978",
       "rows": [
        [
         "XGBoost vs RandomForest",
         "1.0",
         "2.0",
         "0.0",
         "1.0"
        ],
        [
         "XGBoost vs LogisticRegression",
         "0.0",
         "2.0",
         "0.49999999975",
         "0.47950012229680117"
        ],
        [
         "RandomForest vs LogisticRegression",
         "0.0",
         "1.0",
         "0.0",
         "1.0"
        ]
       ],
       "shape": {
        "columns": 4,
        "rows": 3
       }
      },
      "text/html": [
       "<div>\n",
       "<style scoped>\n",
       "    .dataframe tbody tr th:only-of-type {\n",
       "        vertical-align: middle;\n",
       "    }\n",
       "\n",
       "    .dataframe tbody tr th {\n",
       "        vertical-align: top;\n",
       "    }\n",
       "\n",
       "    .dataframe thead th {\n",
       "        text-align: right;\n",
       "    }\n",
       "</style>\n",
       "<table border=\"1\" class=\"dataframe\">\n",
       "  <thead>\n",
       "    <tr style=\"text-align: right;\">\n",
       "      <th></th>\n",
       "      <th>b</th>\n",
       "      <th>c</th>\n",
       "      <th>stat</th>\n",
       "      <th>pvalue</th>\n",
       "    </tr>\n",
       "  </thead>\n",
       "  <tbody>\n",
       "    <tr>\n",
       "      <th>XGBoost vs RandomForest</th>\n",
       "      <td>1.0</td>\n",
       "      <td>2.0</td>\n",
       "      <td>0.0</td>\n",
       "      <td>1.0000</td>\n",
       "    </tr>\n",
       "    <tr>\n",
       "      <th>XGBoost vs LogisticRegression</th>\n",
       "      <td>0.0</td>\n",
       "      <td>2.0</td>\n",
       "      <td>0.5</td>\n",
       "      <td>0.4795</td>\n",
       "    </tr>\n",
       "    <tr>\n",
       "      <th>RandomForest vs LogisticRegression</th>\n",
       "      <td>0.0</td>\n",
       "      <td>1.0</td>\n",
       "      <td>0.0</td>\n",
       "      <td>1.0000</td>\n",
       "    </tr>\n",
       "  </tbody>\n",
       "</table>\n",
       "</div>"
      ],
      "text/plain": [
       "                                      b    c  stat  pvalue\n",
       "XGBoost vs RandomForest             1.0  2.0   0.0  1.0000\n",
       "XGBoost vs LogisticRegression       0.0  2.0   0.5  0.4795\n",
       "RandomForest vs LogisticRegression  0.0  1.0   0.0  1.0000"
      ]
     },
     "execution_count": 91,
     "metadata": {},
     "output_type": "execute_result"
    }
   ],
   "source": [
    "def mcnemar_test(y_true, pred_a, pred_b):\n",
    "    # b = pred_a==1 & pred_b==0\n",
    "    # c = pred_a==0 & pred_b==1\n",
    "    b = np.sum((pred_a==1) & (pred_b==0) & (y_true==1))\n",
    "    c = np.sum((pred_a==0) & (pred_b==1) & (y_true==1))\n",
    "    # continuity correction\n",
    "    stat = (abs(b - c) - 1)**2 / (b + c + 1e-9)\n",
    "    pvalue = 1 - stats.chi2.cdf(stat, df=1)\n",
    "    return {'b':b, 'c':c, 'stat':stat, 'pvalue':pvalue}\n",
    "\n",
    "# run pairwise for top 3 models by ROC AUC\n",
    "top_models = perf_df.index.tolist()[:3]\n",
    "mcnemar_results = {}\n",
    "for a,b in itertools.combinations(top_models,2):\n",
    "    probs_a = results[a]['probs']; probs_b = results[b]['probs']\n",
    "    # use cost-optimized thresholds for fairness\n",
    "    pa = (probs_a >= cost_opt[a]['best_threshold']).astype(int)\n",
    "    pb = (probs_b >= cost_opt[b]['best_threshold']).astype(int)\n",
    "    res = mcnemar_test(y_test.values, pa, pb)\n",
    "    mcnemar_results[f'{a} vs {b}'] = res\n",
    "\n",
    "pd.DataFrame(mcnemar_results).T"
   ]
  },
  {
   "cell_type": "markdown",
   "id": "dac2edd4",
   "metadata": {},
   "source": [
    "#### 3.3.3 Bootstrap test for ROC AUC difference between two models"
   ]
  },
  {
   "cell_type": "code",
   "execution_count": 92,
   "id": "ccb24231",
   "metadata": {},
   "outputs": [
    {
     "name": "stdout",
     "output_type": "stream",
     "text": [
      "Bootstrap AUC diff (XGBoost - RandomForest): {'mean_diff': 0.008352329152429894, 'ci': (0.0018013143175206333, 0.014552498073162497), 'pvalue': 0.016}\n"
     ]
    }
   ],
   "source": [
    "def bootstrap_auc_diff(y_true, probs_a, probs_b, n_bootstraps=1000, seed=42):\n",
    "    rng = np.random.RandomState(seed)\n",
    "    n = len(y_true)\n",
    "    diffs = []\n",
    "    for i in range(n_bootstraps):\n",
    "        idx = rng.randint(0, n, n)\n",
    "        try:\n",
    "            auc_a = roc_auc_score(y_true[idx], probs_a[idx])\n",
    "            auc_b = roc_auc_score(y_true[idx], probs_b[idx])\n",
    "            diffs.append(auc_a - auc_b)\n",
    "        except ValueError:\n",
    "            # skip iterations where a class is missing in the sample\n",
    "            continue\n",
    "    diffs = np.array(diffs)\n",
    "    mean_diff = diffs.mean()\n",
    "    ci_low = np.percentile(diffs, 2.5)\n",
    "    ci_high = np.percentile(diffs, 97.5)\n",
    "    p_val = 2 * min((diffs > 0).mean(), (diffs < 0).mean())  # two-sided\n",
    "    return {'mean_diff': mean_diff, 'ci':(ci_low,ci_high), 'pvalue':p_val}\n",
    "\n",
    "# compare best two models\n",
    "if len(top_models) >= 2:\n",
    "    a,b = top_models[0], top_models[1]\n",
    "    res_boot = bootstrap_auc_diff(y_test.values, results[a]['probs'], results[b]['probs'], n_bootstraps=1000)\n",
    "    print(f\"Bootstrap AUC diff ({a} - {b}):\", res_boot)"
   ]
  },
  {
   "cell_type": "markdown",
   "id": "695c7cb4",
   "metadata": {},
   "source": [
    "### 5. Models Performance Summary"
   ]
  },
  {
   "cell_type": "code",
   "execution_count": 93,
   "id": "99e23e19",
   "metadata": {},
   "outputs": [
    {
     "name": "stdout",
     "output_type": "stream",
     "text": [
      "=== Model Performance Summary ===\n",
      "\n",
      "Best ROC AUC: XGBoost with 0.8458\n",
      "Best PR AUC: XGBoost with 0.6583\n",
      "Best F1 Score: RandomForest with 0.6282\n",
      "Best Precision: XGBoost with 0.6854\n",
      "Best Recall: LogisticRegression with 0.9572\n",
      "\n",
      "=== Model Interpretation ===\n",
      "ROC AUC - Higher values indicate better ability to distinguish between churners and non-churners\n",
      "PR AUC - Higher values indicate better precision-recall trade-off, important for imbalanced classes\n",
      "F1 Score - Harmonic mean of precision and recall, good when both metrics are important\n",
      "Precision - Proportion of true positive predictions among all positive predictions\n",
      "Recall - Proportion of true positive predictions among all actual positives (churners)\n"
     ]
    }
   ],
   "source": [
    "# Create a more detailed performance table\n",
    "print(\"=== Model Performance Summary ===\")\n",
    "    \n",
    "# Get best model for each metric\n",
    "best_roc = max(results.items(), key=lambda x: x[1]['roc_auc'])\n",
    "best_pr = max(results.items(), key=lambda x: x[1]['pr_auc'])\n",
    "best_f1 = max(results.items(), key=lambda x: x[1]['f1'])\n",
    "best_precision = max(results.items(), key=lambda x: x[1]['precision'])\n",
    "best_recall = max(results.items(), key=lambda x: x[1]['recall'])\n",
    "\n",
    "print(f\"\\nBest ROC AUC: {best_roc[0]} with {best_roc[1]['roc_auc']:.4f}\")\n",
    "print(f\"Best PR AUC: {best_pr[0]} with {best_pr[1]['pr_auc']:.4f}\")\n",
    "print(f\"Best F1 Score: {best_f1[0]} with {best_f1[1]['f1']:.4f}\")\n",
    "print(f\"Best Precision: {best_precision[0]} with {best_precision[1]['precision']:.4f}\")\n",
    "print(f\"Best Recall: {best_recall[0]} with {best_recall[1]['recall']:.4f}\")\n",
    "    \n",
    "# Print detailed interpretation\n",
    "print(\"\\n=== Model Interpretation ===\")\n",
    "print(\"ROC AUC - Higher values indicate better ability to distinguish between churners and non-churners\")\n",
    "print(\"PR AUC - Higher values indicate better precision-recall trade-off, important for imbalanced classes\")\n",
    "print(\"F1 Score - Harmonic mean of precision and recall, good when both metrics are important\")\n",
    "print(\"Precision - Proportion of true positive predictions among all positive predictions\")\n",
    "print(\"Recall - Proportion of true positive predictions among all actual positives (churners)\")"
   ]
  },
  {
   "cell_type": "markdown",
   "id": "0696c569",
   "metadata": {},
   "source": [
    "### 6. Save results & Final recommendations\n",
    "- Save perf_df and threshold decisions to csv for reporting\n"
   ]
  },
  {
   "cell_type": "code",
   "execution_count": 98,
   "id": "e22e7350",
   "metadata": {},
   "outputs": [
    {
     "data": {
      "application/vnd.microsoft.datawrangler.viewer.v0+json": {
       "columns": [
        {
         "name": "model",
         "rawType": "object",
         "type": "string"
        },
        {
         "name": "roc_auc",
         "rawType": "float64",
         "type": "float"
        },
        {
         "name": "pr_auc",
         "rawType": "float64",
         "type": "float"
        },
        {
         "name": "precision(0.5)",
         "rawType": "float64",
         "type": "float"
        },
        {
         "name": "recall(0.5)",
         "rawType": "float64",
         "type": "float"
        },
        {
         "name": "f1(0.5)",
         "rawType": "float64",
         "type": "float"
        },
        {
         "name": "best_thresh",
         "rawType": "float64",
         "type": "float"
        },
        {
         "name": "precision(best)",
         "rawType": "float64",
         "type": "float"
        },
        {
         "name": "recall(best)",
         "rawType": "float64",
         "type": "float"
        },
        {
         "name": "f1(best)",
         "rawType": "float64",
         "type": "float"
        },
        {
         "name": "min_cost",
         "rawType": "float64",
         "type": "float"
        },
        {
         "name": "savings_vs_no_action",
         "rawType": "float64",
         "type": "float"
        }
       ],
       "ref": "c591aad7-6eb9-4e59-aa47-4449968e81af",
       "rows": [
        [
         "XGBoost",
         "0.8458330104110156",
         "0.6583224745316206",
         "0.6853932584269663",
         "0.4893048128342246",
         "0.5709828393135725",
         "0.04",
         "0.32660228270412645",
         "0.9946524064171123",
         "0.4917382683410443",
         "8447.14030952719",
         "136878.09757205736"
        ],
        [
         "RandomForest",
         "0.8372768606783952",
         "0.6511160471963469",
         "0.5528455284552846",
         "0.7272727272727273",
         "0.628175519630485",
         "0.16",
         "0.3003220611916264",
         "0.9973262032085561",
         "0.46163366336633666",
         "9078.570154763594",
         "136246.66772682098"
        ],
        [
         "LogisticRegression",
         "0.687258777028598",
         "0.4213639921374398",
         "0.3275388838060384",
         "0.9572192513368984",
         "0.48807089297886846",
         "0.17",
         "0.2992",
         "1.0",
         "0.4605911330049261",
         "8760.0",
         "136565.23788158456"
        ],
        [
         "DecisionTree",
         "0.6087434446769485",
         "0.331810621451629",
         "0.4117647058823529",
         "0.44919786096256686",
         "0.4296675191815857",
         "0.01",
         "0.4092009685230024",
         "0.45187165775401067",
         "0.42947903430749684",
         "82096.88172653699",
         "63228.35615504757"
        ]
       ],
       "shape": {
        "columns": 11,
        "rows": 4
       }
      },
      "text/html": [
       "<div>\n",
       "<style scoped>\n",
       "    .dataframe tbody tr th:only-of-type {\n",
       "        vertical-align: middle;\n",
       "    }\n",
       "\n",
       "    .dataframe tbody tr th {\n",
       "        vertical-align: top;\n",
       "    }\n",
       "\n",
       "    .dataframe thead th {\n",
       "        text-align: right;\n",
       "    }\n",
       "</style>\n",
       "<table border=\"1\" class=\"dataframe\">\n",
       "  <thead>\n",
       "    <tr style=\"text-align: right;\">\n",
       "      <th></th>\n",
       "      <th>roc_auc</th>\n",
       "      <th>pr_auc</th>\n",
       "      <th>precision(0.5)</th>\n",
       "      <th>recall(0.5)</th>\n",
       "      <th>f1(0.5)</th>\n",
       "      <th>best_thresh</th>\n",
       "      <th>precision(best)</th>\n",
       "      <th>recall(best)</th>\n",
       "      <th>f1(best)</th>\n",
       "      <th>min_cost</th>\n",
       "      <th>savings_vs_no_action</th>\n",
       "    </tr>\n",
       "    <tr>\n",
       "      <th>model</th>\n",
       "      <th></th>\n",
       "      <th></th>\n",
       "      <th></th>\n",
       "      <th></th>\n",
       "      <th></th>\n",
       "      <th></th>\n",
       "      <th></th>\n",
       "      <th></th>\n",
       "      <th></th>\n",
       "      <th></th>\n",
       "      <th></th>\n",
       "    </tr>\n",
       "  </thead>\n",
       "  <tbody>\n",
       "    <tr>\n",
       "      <th>XGBoost</th>\n",
       "      <td>0.845833</td>\n",
       "      <td>0.658322</td>\n",
       "      <td>0.685393</td>\n",
       "      <td>0.489305</td>\n",
       "      <td>0.570983</td>\n",
       "      <td>0.04</td>\n",
       "      <td>0.326602</td>\n",
       "      <td>0.994652</td>\n",
       "      <td>0.491738</td>\n",
       "      <td>8447.140310</td>\n",
       "      <td>136878.097572</td>\n",
       "    </tr>\n",
       "    <tr>\n",
       "      <th>RandomForest</th>\n",
       "      <td>0.837277</td>\n",
       "      <td>0.651116</td>\n",
       "      <td>0.552846</td>\n",
       "      <td>0.727273</td>\n",
       "      <td>0.628176</td>\n",
       "      <td>0.16</td>\n",
       "      <td>0.300322</td>\n",
       "      <td>0.997326</td>\n",
       "      <td>0.461634</td>\n",
       "      <td>9078.570155</td>\n",
       "      <td>136246.667727</td>\n",
       "    </tr>\n",
       "    <tr>\n",
       "      <th>LogisticRegression</th>\n",
       "      <td>0.687259</td>\n",
       "      <td>0.421364</td>\n",
       "      <td>0.327539</td>\n",
       "      <td>0.957219</td>\n",
       "      <td>0.488071</td>\n",
       "      <td>0.17</td>\n",
       "      <td>0.299200</td>\n",
       "      <td>1.000000</td>\n",
       "      <td>0.460591</td>\n",
       "      <td>8760.000000</td>\n",
       "      <td>136565.237882</td>\n",
       "    </tr>\n",
       "    <tr>\n",
       "      <th>DecisionTree</th>\n",
       "      <td>0.608743</td>\n",
       "      <td>0.331811</td>\n",
       "      <td>0.411765</td>\n",
       "      <td>0.449198</td>\n",
       "      <td>0.429668</td>\n",
       "      <td>0.01</td>\n",
       "      <td>0.409201</td>\n",
       "      <td>0.451872</td>\n",
       "      <td>0.429479</td>\n",
       "      <td>82096.881727</td>\n",
       "      <td>63228.356155</td>\n",
       "    </tr>\n",
       "  </tbody>\n",
       "</table>\n",
       "</div>"
      ],
      "text/plain": [
       "                     roc_auc    pr_auc  precision(0.5)  recall(0.5)   f1(0.5)  \\\n",
       "model                                                                           \n",
       "XGBoost             0.845833  0.658322        0.685393     0.489305  0.570983   \n",
       "RandomForest        0.837277  0.651116        0.552846     0.727273  0.628176   \n",
       "LogisticRegression  0.687259  0.421364        0.327539     0.957219  0.488071   \n",
       "DecisionTree        0.608743  0.331811        0.411765     0.449198  0.429668   \n",
       "\n",
       "                    best_thresh  precision(best)  recall(best)  f1(best)  \\\n",
       "model                                                                      \n",
       "XGBoost                    0.04         0.326602      0.994652  0.491738   \n",
       "RandomForest               0.16         0.300322      0.997326  0.461634   \n",
       "LogisticRegression         0.17         0.299200      1.000000  0.460591   \n",
       "DecisionTree               0.01         0.409201      0.451872  0.429479   \n",
       "\n",
       "                        min_cost  savings_vs_no_action  \n",
       "model                                                   \n",
       "XGBoost              8447.140310         136878.097572  \n",
       "RandomForest         9078.570155         136246.667727  \n",
       "LogisticRegression   8760.000000         136565.237882  \n",
       "DecisionTree        82096.881727          63228.356155  "
      ]
     },
     "execution_count": 98,
     "metadata": {},
     "output_type": "execute_result"
    }
   ],
   "source": [
    "pd.DataFrame(perf_df)"
   ]
  },
  {
   "cell_type": "code",
   "execution_count": 96,
   "id": "d691266a",
   "metadata": {},
   "outputs": [
    {
     "name": "stdout",
     "output_type": "stream",
     "text": [
      "Saved performance summary to src/data/external/models_performance_summary.csv\n"
     ]
    }
   ],
   "source": [
    "perf_df.to_csv('src/data/external/models_performance_summary.csv')\n",
    "print(\"Saved performance summary to src/data/external/models_performance_summary.csv\")"
   ]
  }
 ],
 "metadata": {
  "kernelspec": {
   "display_name": "newone",
   "language": "python",
   "name": "python3"
  },
  "language_info": {
   "codemirror_mode": {
    "name": "ipython",
    "version": 3
   },
   "file_extension": ".py",
   "mimetype": "text/x-python",
   "name": "python",
   "nbconvert_exporter": "python",
   "pygments_lexer": "ipython3",
   "version": "3.11.13"
  }
 },
 "nbformat": 4,
 "nbformat_minor": 5
}
